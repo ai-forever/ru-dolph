{
 "cells": [
  {
   "cell_type": "markdown",
   "id": "99fe2e79-81e4-428a-b977-2e830e780806",
   "metadata": {},
   "source": [
    "## Fine-tuning RUDOLPH on text QA"
   ]
  },
  {
   "cell_type": "markdown",
   "id": "5685796b-1a81-442c-8a8e-59b297791be2",
   "metadata": {},
   "source": [
    "RUDOLPH был обучен на 4-х задачах (text2image, image2text и text2text), причем предобучение на задачу генерации текста осуществлялось только в левых текстовых токенах. Использование данных задач для предобучения позволяет модели научиться сопоставлять тексты и картинки, а также кодировать лингвистическую информацию о естественном языке в генерируемые векторные представления.\n",
    "\n",
    "После пре-трейна, RUDOLPH может быть дообучен под более узкую задачу, для которой входом или выходом является текст, картинка либо их комбинация.\n",
    "\n",
    "В данном ноутбуке описан процесс дообучения RUDOLPH 2.7B под текстовую задачу ответа на вопросы по данному текстн (machine reading comprehension (MRC))."
   ]
  },
  {
   "cell_type": "markdown",
   "id": "d9bed231-463e-462e-956c-87efdd5c6e88",
   "metadata": {},
   "source": [
    "# Данные"
   ]
  },
  {
   "cell_type": "markdown",
   "id": "3844ce7b-e325-45b8-8f74-00fcfebcc614",
   "metadata": {},
   "source": [
    "Используем данные из набора [sberQuAD](https://huggingface.co/datasets/sberquad) - это датасет, содержащий текстовый абзац, вопрос по прочитанному тексту и фрагмент текста, являющийся ответом на заданный вопрос.\n",
    "\n",
    "Размер датасета:\n",
    "\n",
    "* train: 45328 \n",
    "* validation: 5036\n",
    "* test: 23936"
   ]
  },
  {
   "cell_type": "markdown",
   "id": "544214ad-0cfe-43c9-98b4-9d2d7165e316",
   "metadata": {},
   "source": [
    "Cделаем импорт необходимых зависимостей"
   ]
  },
  {
   "cell_type": "code",
   "execution_count": 1,
   "id": "e70136e9-c67c-4474-8a8a-27ef812e72e3",
   "metadata": {},
   "outputs": [
    {
     "name": "stdout",
     "output_type": "stream",
     "text": [
      "Requirement already satisfied: rudolph==0.0.1rc10 in /home/jovyan/.imgenv-a100-0/lib/python3.7/site-packages (0.0.1rc10)\n",
      "Requirement already satisfied: torchvision in /home/user/conda/lib/python3.7/site-packages (from rudolph==0.0.1rc10) (0.10.1+cu111)\n",
      "Requirement already satisfied: einops~=0.3.2 in /home/jovyan/.imgenv-a100-0/lib/python3.7/site-packages (from rudolph==0.0.1rc10) (0.3.2)\n",
      "Requirement already satisfied: omegaconf>=2.0.0 in /home/jovyan/.imgenv-a100-0/lib/python3.7/site-packages (from rudolph==0.0.1rc10) (2.1.1)\n",
      "Requirement already satisfied: youtokentome>=1.0.6 in /home/jovyan/.imgenv-a100-0/lib/python3.7/site-packages (from rudolph==0.0.1rc10) (1.0.6)\n",
      "Requirement already satisfied: transformers~=4.10.2 in /home/jovyan/.imgenv-a100-0/lib/python3.7/site-packages (from rudolph==0.0.1rc10) (4.10.3)\n",
      "Requirement already satisfied: matplotlib in /home/user/conda/lib/python3.7/site-packages (from rudolph==0.0.1rc10) (3.5.1)\n",
      "Requirement already satisfied: more-itertools>=8.10.0 in /home/jovyan/.imgenv-a100-0/lib/python3.7/site-packages (from rudolph==0.0.1rc10) (8.12.0)\n",
      "Requirement already satisfied: torch in /home/user/conda/lib/python3.7/site-packages (from rudolph==0.0.1rc10) (1.9.1+cu111)\n",
      "Requirement already satisfied: rudalle==1.1.3 in /home/jovyan/.imgenv-a100-0/lib/python3.7/site-packages (from rudolph==0.0.1rc10) (1.1.3)\n",
      "Requirement already satisfied: taming-transformers==0.0.1 in /home/jovyan/.imgenv-a100-0/lib/python3.7/site-packages (from rudolph==0.0.1rc10) (0.0.1)\n",
      "Requirement already satisfied: segmentation-models-pytorch==0.1.3 in /home/jovyan/.imgenv-a100-0/lib/python3.7/site-packages (from rudalle==1.1.3->rudolph==0.0.1rc10) (0.1.3)\n",
      "Requirement already satisfied: opencv-python==4.5.4.60 in /home/jovyan/.imgenv-a100-0/lib/python3.7/site-packages (from rudalle==1.1.3->rudolph==0.0.1rc10) (4.5.4.60)\n",
      "Requirement already satisfied: PyWavelets==1.1.1 in /home/jovyan/.imgenv-a100-0/lib/python3.7/site-packages (from rudalle==1.1.3->rudolph==0.0.1rc10) (1.1.1)\n",
      "Requirement already satisfied: pytorch-lightning>=1.0.8 in /home/jovyan/.imgenv-a100-0/lib/python3.7/site-packages (from taming-transformers==0.0.1->rudolph==0.0.1rc10) (1.5.10)\n",
      "Requirement already satisfied: tqdm in /home/user/conda/lib/python3.7/site-packages (from taming-transformers==0.0.1->rudolph==0.0.1rc10) (4.62.3)\n",
      "Requirement already satisfied: numpy in /home/user/conda/lib/python3.7/site-packages (from taming-transformers==0.0.1->rudolph==0.0.1rc10) (1.21.5)\n",
      "Requirement already satisfied: efficientnet-pytorch==0.6.3 in /home/jovyan/.imgenv-a100-0/lib/python3.7/site-packages (from segmentation-models-pytorch==0.1.3->rudalle==1.1.3->rudolph==0.0.1rc10) (0.6.3)\n",
      "Requirement already satisfied: timm==0.3.2 in /home/jovyan/.imgenv-a100-0/lib/python3.7/site-packages (from segmentation-models-pytorch==0.1.3->rudalle==1.1.3->rudolph==0.0.1rc10) (0.3.2)\n",
      "Requirement already satisfied: pretrainedmodels==0.7.4 in /home/jovyan/.imgenv-a100-0/lib/python3.7/site-packages (from segmentation-models-pytorch==0.1.3->rudalle==1.1.3->rudolph==0.0.1rc10) (0.7.4)\n",
      "Requirement already satisfied: munch in /home/jovyan/.imgenv-a100-0/lib/python3.7/site-packages (from pretrainedmodels==0.7.4->segmentation-models-pytorch==0.1.3->rudalle==1.1.3->rudolph==0.0.1rc10) (2.5.0)\n",
      "Requirement already satisfied: PyYAML>=5.1.0 in /home/user/conda/lib/python3.7/site-packages (from omegaconf>=2.0.0->rudolph==0.0.1rc10) (6.0)\n",
      "Requirement already satisfied: antlr4-python3-runtime==4.8 in /home/jovyan/.imgenv-a100-0/lib/python3.7/site-packages (from omegaconf>=2.0.0->rudolph==0.0.1rc10) (4.8)\n",
      "Requirement already satisfied: typing-extensions in /home/user/conda/lib/python3.7/site-packages (from torch->rudolph==0.0.1rc10) (4.0.1)\n",
      "Requirement already satisfied: pillow>=5.3.0 in /home/user/conda/lib/python3.7/site-packages (from torchvision->rudolph==0.0.1rc10) (9.0.0)\n",
      "Requirement already satisfied: filelock in /home/user/conda/lib/python3.7/site-packages (from transformers~=4.10.2->rudolph==0.0.1rc10) (3.4.2)\n",
      "Requirement already satisfied: tokenizers<0.11,>=0.10.1 in /home/jovyan/.imgenv-a100-0/lib/python3.7/site-packages (from transformers~=4.10.2->rudolph==0.0.1rc10) (0.10.3)\n",
      "Requirement already satisfied: packaging in /home/user/conda/lib/python3.7/site-packages (from transformers~=4.10.2->rudolph==0.0.1rc10) (21.3)\n",
      "Requirement already satisfied: importlib-metadata in /home/user/conda/lib/python3.7/site-packages (from transformers~=4.10.2->rudolph==0.0.1rc10) (4.10.1)\n",
      "Requirement already satisfied: sacremoses in /home/jovyan/.imgenv-a100-0/lib/python3.7/site-packages (from transformers~=4.10.2->rudolph==0.0.1rc10) (0.0.47)\n",
      "Requirement already satisfied: regex!=2019.12.17 in /home/user/conda/lib/python3.7/site-packages (from transformers~=4.10.2->rudolph==0.0.1rc10) (2022.1.18)\n",
      "Requirement already satisfied: requests in /home/user/conda/lib/python3.7/site-packages (from transformers~=4.10.2->rudolph==0.0.1rc10) (2.27.1)\n",
      "Requirement already satisfied: huggingface-hub>=0.0.12 in /home/jovyan/.imgenv-a100-0/lib/python3.7/site-packages (from transformers~=4.10.2->rudolph==0.0.1rc10) (0.9.1)\n",
      "Requirement already satisfied: Click>=7.0 in /home/user/conda/lib/python3.7/site-packages (from youtokentome>=1.0.6->rudolph==0.0.1rc10) (8.0.3)\n",
      "Requirement already satisfied: cycler>=0.10 in /home/user/conda/lib/python3.7/site-packages (from matplotlib->rudolph==0.0.1rc10) (0.11.0)\n",
      "Requirement already satisfied: fonttools>=4.22.0 in /home/user/conda/lib/python3.7/site-packages (from matplotlib->rudolph==0.0.1rc10) (4.28.5)\n",
      "Requirement already satisfied: pyparsing>=2.2.1 in /home/user/conda/lib/python3.7/site-packages (from matplotlib->rudolph==0.0.1rc10) (3.0.7)\n",
      "Requirement already satisfied: python-dateutil>=2.7 in /home/user/conda/lib/python3.7/site-packages (from matplotlib->rudolph==0.0.1rc10) (2.8.2)\n",
      "Requirement already satisfied: kiwisolver>=1.0.1 in /home/user/conda/lib/python3.7/site-packages (from matplotlib->rudolph==0.0.1rc10) (1.3.2)\n",
      "Requirement already satisfied: six>=1.5 in /home/user/conda/lib/python3.7/site-packages (from python-dateutil>=2.7->matplotlib->rudolph==0.0.1rc10) (1.16.0)\n",
      "Requirement already satisfied: future>=0.17.1 in /home/user/conda/lib/python3.7/site-packages (from pytorch-lightning>=1.0.8->taming-transformers==0.0.1->rudolph==0.0.1rc10) (0.18.2)\n",
      "Requirement already satisfied: pyDeprecate==0.3.1 in /home/jovyan/.imgenv-a100-0/lib/python3.7/site-packages (from pytorch-lightning>=1.0.8->taming-transformers==0.0.1->rudolph==0.0.1rc10) (0.3.1)\n",
      "Requirement already satisfied: fsspec[http]!=2021.06.0,>=2021.05.0 in /home/user/conda/lib/python3.7/site-packages (from pytorch-lightning>=1.0.8->taming-transformers==0.0.1->rudolph==0.0.1rc10) (2022.1.0)\n",
      "Requirement already satisfied: torchmetrics>=0.4.1 in /home/jovyan/.imgenv-a100-0/lib/python3.7/site-packages (from pytorch-lightning>=1.0.8->taming-transformers==0.0.1->rudolph==0.0.1rc10) (0.7.2)\n",
      "Requirement already satisfied: setuptools==59.5.0 in /home/jovyan/.imgenv-a100-0/lib/python3.7/site-packages (from pytorch-lightning>=1.0.8->taming-transformers==0.0.1->rudolph==0.0.1rc10) (59.5.0)\n",
      "Requirement already satisfied: tensorboard>=2.2.0 in /home/user/conda/lib/python3.7/site-packages (from pytorch-lightning>=1.0.8->taming-transformers==0.0.1->rudolph==0.0.1rc10) (2.3.0)\n",
      "Requirement already satisfied: zipp>=0.5 in /home/user/conda/lib/python3.7/site-packages (from importlib-metadata->transformers~=4.10.2->rudolph==0.0.1rc10) (3.7.0)\n",
      "Requirement already satisfied: urllib3<1.27,>=1.21.1 in /home/user/conda/lib/python3.7/site-packages (from requests->transformers~=4.10.2->rudolph==0.0.1rc10) (1.26.8)\n",
      "Requirement already satisfied: idna<4,>=2.5 in /home/user/conda/lib/python3.7/site-packages (from requests->transformers~=4.10.2->rudolph==0.0.1rc10) (3.3)\n",
      "Requirement already satisfied: certifi>=2017.4.17 in /home/user/conda/lib/python3.7/site-packages (from requests->transformers~=4.10.2->rudolph==0.0.1rc10) (2021.10.8)\n",
      "Requirement already satisfied: charset-normalizer~=2.0.0 in /home/user/conda/lib/python3.7/site-packages (from requests->transformers~=4.10.2->rudolph==0.0.1rc10) (2.0.10)\n",
      "Requirement already satisfied: joblib in /home/user/conda/lib/python3.7/site-packages (from sacremoses->transformers~=4.10.2->rudolph==0.0.1rc10) (1.1.0)\n",
      "Requirement already satisfied: aiohttp in /home/user/conda/lib/python3.7/site-packages (from fsspec[http]!=2021.06.0,>=2021.05.0->pytorch-lightning>=1.0.8->taming-transformers==0.0.1->rudolph==0.0.1rc10) (3.8.1)\n",
      "Requirement already satisfied: protobuf>=3.6.0 in /home/user/conda/lib/python3.7/site-packages (from tensorboard>=2.2.0->pytorch-lightning>=1.0.8->taming-transformers==0.0.1->rudolph==0.0.1rc10) (3.19.3)\n",
      "Requirement already satisfied: tensorboard-plugin-wit>=1.6.0 in /home/user/conda/lib/python3.7/site-packages (from tensorboard>=2.2.0->pytorch-lightning>=1.0.8->taming-transformers==0.0.1->rudolph==0.0.1rc10) (1.8.1)\n",
      "Requirement already satisfied: absl-py>=0.4 in /home/user/conda/lib/python3.7/site-packages (from tensorboard>=2.2.0->pytorch-lightning>=1.0.8->taming-transformers==0.0.1->rudolph==0.0.1rc10) (1.0.0)\n",
      "Requirement already satisfied: wheel>=0.26 in /home/jovyan/.imgenv-a100-0/lib/python3.7/site-packages (from tensorboard>=2.2.0->pytorch-lightning>=1.0.8->taming-transformers==0.0.1->rudolph==0.0.1rc10) (0.37.1)\n",
      "Requirement already satisfied: google-auth-oauthlib<0.5,>=0.4.1 in /home/user/conda/lib/python3.7/site-packages (from tensorboard>=2.2.0->pytorch-lightning>=1.0.8->taming-transformers==0.0.1->rudolph==0.0.1rc10) (0.4.6)\n",
      "Requirement already satisfied: markdown>=2.6.8 in /home/user/conda/lib/python3.7/site-packages (from tensorboard>=2.2.0->pytorch-lightning>=1.0.8->taming-transformers==0.0.1->rudolph==0.0.1rc10) (3.3.6)\n",
      "Requirement already satisfied: grpcio>=1.24.3 in /home/user/conda/lib/python3.7/site-packages (from tensorboard>=2.2.0->pytorch-lightning>=1.0.8->taming-transformers==0.0.1->rudolph==0.0.1rc10) (1.43.0)\n",
      "Requirement already satisfied: google-auth<2,>=1.6.3 in /home/user/conda/lib/python3.7/site-packages (from tensorboard>=2.2.0->pytorch-lightning>=1.0.8->taming-transformers==0.0.1->rudolph==0.0.1rc10) (1.35.0)\n",
      "Requirement already satisfied: werkzeug>=0.11.15 in /home/user/conda/lib/python3.7/site-packages (from tensorboard>=2.2.0->pytorch-lightning>=1.0.8->taming-transformers==0.0.1->rudolph==0.0.1rc10) (2.0.2)\n",
      "Requirement already satisfied: cachetools<5.0,>=2.0.0 in /home/user/conda/lib/python3.7/site-packages (from google-auth<2,>=1.6.3->tensorboard>=2.2.0->pytorch-lightning>=1.0.8->taming-transformers==0.0.1->rudolph==0.0.1rc10) (4.2.4)\n",
      "Requirement already satisfied: rsa<5,>=3.1.4 in /home/user/conda/lib/python3.7/site-packages (from google-auth<2,>=1.6.3->tensorboard>=2.2.0->pytorch-lightning>=1.0.8->taming-transformers==0.0.1->rudolph==0.0.1rc10) (4.8)\n",
      "Requirement already satisfied: pyasn1-modules>=0.2.1 in /home/user/conda/lib/python3.7/site-packages (from google-auth<2,>=1.6.3->tensorboard>=2.2.0->pytorch-lightning>=1.0.8->taming-transformers==0.0.1->rudolph==0.0.1rc10) (0.2.8)\n",
      "Requirement already satisfied: requests-oauthlib>=0.7.0 in /home/user/conda/lib/python3.7/site-packages (from google-auth-oauthlib<0.5,>=0.4.1->tensorboard>=2.2.0->pytorch-lightning>=1.0.8->taming-transformers==0.0.1->rudolph==0.0.1rc10) (1.3.0)\n",
      "Requirement already satisfied: attrs>=17.3.0 in /home/user/conda/lib/python3.7/site-packages (from aiohttp->fsspec[http]!=2021.06.0,>=2021.05.0->pytorch-lightning>=1.0.8->taming-transformers==0.0.1->rudolph==0.0.1rc10) (21.4.0)\n",
      "Requirement already satisfied: aiosignal>=1.1.2 in /home/user/conda/lib/python3.7/site-packages (from aiohttp->fsspec[http]!=2021.06.0,>=2021.05.0->pytorch-lightning>=1.0.8->taming-transformers==0.0.1->rudolph==0.0.1rc10) (1.2.0)\n",
      "Requirement already satisfied: frozenlist>=1.1.1 in /home/user/conda/lib/python3.7/site-packages (from aiohttp->fsspec[http]!=2021.06.0,>=2021.05.0->pytorch-lightning>=1.0.8->taming-transformers==0.0.1->rudolph==0.0.1rc10) (1.3.0)\n",
      "Requirement already satisfied: multidict<7.0,>=4.5 in /home/user/conda/lib/python3.7/site-packages (from aiohttp->fsspec[http]!=2021.06.0,>=2021.05.0->pytorch-lightning>=1.0.8->taming-transformers==0.0.1->rudolph==0.0.1rc10) (5.2.0)\n",
      "Requirement already satisfied: async-timeout<5.0,>=4.0.0a3 in /home/user/conda/lib/python3.7/site-packages (from aiohttp->fsspec[http]!=2021.06.0,>=2021.05.0->pytorch-lightning>=1.0.8->taming-transformers==0.0.1->rudolph==0.0.1rc10) (4.0.2)\n",
      "Requirement already satisfied: asynctest==0.13.0 in /home/user/conda/lib/python3.7/site-packages (from aiohttp->fsspec[http]!=2021.06.0,>=2021.05.0->pytorch-lightning>=1.0.8->taming-transformers==0.0.1->rudolph==0.0.1rc10) (0.13.0)\n",
      "Requirement already satisfied: yarl<2.0,>=1.0 in /home/user/conda/lib/python3.7/site-packages (from aiohttp->fsspec[http]!=2021.06.0,>=2021.05.0->pytorch-lightning>=1.0.8->taming-transformers==0.0.1->rudolph==0.0.1rc10) (1.7.2)\n",
      "Requirement already satisfied: pyasn1<0.5.0,>=0.4.6 in /home/user/conda/lib/python3.7/site-packages (from pyasn1-modules>=0.2.1->google-auth<2,>=1.6.3->tensorboard>=2.2.0->pytorch-lightning>=1.0.8->taming-transformers==0.0.1->rudolph==0.0.1rc10) (0.4.8)\n",
      "Requirement already satisfied: oauthlib>=3.0.0 in /home/user/conda/lib/python3.7/site-packages (from requests-oauthlib>=0.7.0->google-auth-oauthlib<0.5,>=0.4.1->tensorboard>=2.2.0->pytorch-lightning>=1.0.8->taming-transformers==0.0.1->rudolph==0.0.1rc10) (3.1.1)\n"
     ]
    }
   ],
   "source": [
    "!pip install rudolph==0.0.1rc10 "
   ]
  },
  {
   "cell_type": "code",
   "execution_count": 2,
   "id": "0063ccff-1602-4427-b7fc-e8d02a733b12",
   "metadata": {},
   "outputs": [],
   "source": [
    "import torch\n",
    "from rudalle import get_vae\n",
    "from rudalle.utils import seed_everything\n",
    "\n",
    "import sys\n",
    "sys.path.insert(0, 'ru-dolph')\n",
    "\n",
    "import os\n",
    "from glob import glob\n",
    "from os.path import join\n",
    "from datetime import datetime\n",
    "\n",
    "import torch\n",
    "import bitsandbytes as bnb\n",
    "from torch.utils.data import Dataset, DataLoader\n",
    "import torchvision\n",
    "import transformers\n",
    "import more_itertools\n",
    "import numpy as np\n",
    "import torch.nn.functional as F\n",
    "import matplotlib.pyplot as plt\n",
    "import torchvision.transforms as T\n",
    "from tqdm.auto import tqdm\n",
    "from einops import rearrange\n",
    "import youtokentome as yttm\n",
    "\n",
    "import torchvision\n",
    "from rudalle.image_prompts import ImagePrompts\n",
    "from rudolph.model import get_rudolph_model, ruDolphModel, FP16Module\n",
    "from rudolph import utils\n",
    "from rudolph.model.utils import get_attention_mask\n",
    "from rudalle import get_tokenizer, get_vae\n",
    "from rudolph.api import ruDolphApi\n",
    "\n",
    "import datasets\n",
    "import random"
   ]
  },
  {
   "cell_type": "code",
   "execution_count": 3,
   "id": "69c45243-c0a7-47c1-8efa-9f89777062fa",
   "metadata": {},
   "outputs": [],
   "source": [
    "device = 'cuda'"
   ]
  },
  {
   "cell_type": "code",
   "execution_count": 4,
   "id": "afe1a829-6ace-49f5-8a42-177a18551c1e",
   "metadata": {},
   "outputs": [
    {
     "name": "stderr",
     "output_type": "stream",
     "text": [
      "/home/jovyan/.imgenv-a100-0/lib/python3.7/site-packages/huggingface_hub/file_download.py:624: FutureWarning: `cached_download` is the legacy way to download files from the HF hub, please consider upgrading to `hf_hub_download`\n",
      "  FutureWarning,\n"
     ]
    },
    {
     "data": {
      "application/vnd.jupyter.widget-view+json": {
       "model_id": "3c7d16967234498a88641d469f636041",
       "version_major": 2,
       "version_minor": 0
      },
      "text/plain": [
       "Downloading:   0%|          | 0.00/5.33G [00:00<?, ?B/s]"
      ]
     },
     "metadata": {},
     "output_type": "display_data"
    }
   ],
   "source": [
    "model = get_rudolph_model('2.7B', pretrained=True, fp16=True, device='cuda')"
   ]
  },
  {
   "cell_type": "code",
   "execution_count": 5,
   "id": "988a2dde-1237-430a-a1f6-fb16d5365fce",
   "metadata": {},
   "outputs": [
    {
     "name": "stdout",
     "output_type": "stream",
     "text": [
      "tokenizer --> ready\n",
      "Working with z of shape (1, 256, 32, 32) = 262144 dimensions.\n",
      "vae --> ready\n"
     ]
    }
   ],
   "source": [
    "tokenizer = get_tokenizer()\n",
    "vae = get_vae(dwt=False).to(device)"
   ]
  },
  {
   "cell_type": "markdown",
   "id": "f85fbcae-556d-4ed8-93bc-5c0d1d1771f9",
   "metadata": {},
   "source": [
    "## Данные для обучения"
   ]
  },
  {
   "cell_type": "markdown",
   "id": "7a9eec01-485f-49a8-be1d-be5e8f89f9b4",
   "metadata": {},
   "source": [
    "Выгрузим данные с помощью библиотеки datasets."
   ]
  },
  {
   "cell_type": "code",
   "execution_count": 6,
   "id": "0d78815f-2550-416e-99c9-a6d7e37c5c12",
   "metadata": {},
   "outputs": [
    {
     "name": "stderr",
     "output_type": "stream",
     "text": [
      "Reusing dataset sberquad (/home/jovyan/.cache/huggingface/datasets/sberquad/sberquad/1.0.0/62115d937acf2634cfacbfee10c13a7ee39df3ce345bb45af7088676f9811e77)\n"
     ]
    },
    {
     "data": {
      "application/vnd.jupyter.widget-view+json": {
       "model_id": "888288eb0b6f4c4bab64b661d660a0b7",
       "version_major": 2,
       "version_minor": 0
      },
      "text/plain": [
       "  0%|          | 0/3 [00:00<?, ?it/s]"
      ]
     },
     "metadata": {},
     "output_type": "display_data"
    }
   ],
   "source": [
    "from datasets import list_datasets\n",
    "dataset = datasets.load_dataset('sberquad')"
   ]
  },
  {
   "cell_type": "markdown",
   "id": "2133c061-9b99-4c7d-b746-234fc146e149",
   "metadata": {},
   "source": [
    "Нам понадобятся три поля, содержащихся в наборе (`'context'`, `'question'`, `'answers'`)"
   ]
  },
  {
   "cell_type": "code",
   "execution_count": 7,
   "id": "c8c9ffa4-89b2-4c8f-9b21-390ec34009ef",
   "metadata": {},
   "outputs": [
    {
     "data": {
      "text/plain": [
       "DatasetDict({\n",
       "    train: Dataset({\n",
       "        features: ['id', 'title', 'context', 'question', 'answers'],\n",
       "        num_rows: 45328\n",
       "    })\n",
       "    validation: Dataset({\n",
       "        features: ['id', 'title', 'context', 'question', 'answers'],\n",
       "        num_rows: 5036\n",
       "    })\n",
       "    test: Dataset({\n",
       "        features: ['id', 'title', 'context', 'question', 'answers'],\n",
       "        num_rows: 23936\n",
       "    })\n",
       "})"
      ]
     },
     "execution_count": 7,
     "metadata": {},
     "output_type": "execute_result"
    }
   ],
   "source": [
    "dataset"
   ]
  },
  {
   "cell_type": "code",
   "execution_count": 8,
   "id": "cb80953b-17c5-44c1-9bd0-0d541feab581",
   "metadata": {},
   "outputs": [],
   "source": [
    "train_data = dataset['train']\n",
    "val_data = dataset['validation']\n",
    "test_data = dataset['test']"
   ]
  },
  {
   "cell_type": "code",
   "execution_count": 9,
   "id": "8c632846-e4ae-4c18-a7bc-b5da9e3aa366",
   "metadata": {},
   "outputs": [
    {
     "name": "stdout",
     "output_type": "stream",
     "text": [
      "Контекст + вопрос:  В протерозойских отложениях органические остатки встречаются намного чаще, чем в архейских. Они представлены известковыми выделениями сине-зелёных водорослей, ходами червей, остатками кишечнополостных. Кроме известковых водорослей, к числу древнейших растительных остатков относятся скопления графито-углистого вещества, образовавшегося в результате разложения Corycium enigmaticum. В кремнистых сланцах железорудной формации Канады найдены нитевидные водоросли, грибные нити и формы, близкие современным кокколитофоридам. В железистых кварцитах Северной Америки и Сибири обнаружены железистые продукты жизнедеятельности бактерий.чем представлены органические остатки?\n",
      "----------------------------------------------------------------------------------------------------\n",
      "Ответ:  ['известковыми выделениями сине-зелёных водорослей']\n"
     ]
    }
   ],
   "source": [
    "print('Контекст + вопрос: ', train_data['context'][0] + train_data['question'][0])\n",
    "print('-'*100)\n",
    "print('Ответ: ', train_data['answers'][0]['text'])"
   ]
  },
  {
   "cell_type": "markdown",
   "id": "af540ea2-a16d-4735-a743-d4f1db72060e",
   "metadata": {},
   "source": [
    "## Подготовка загрузчика данных"
   ]
  },
  {
   "cell_type": "markdown",
   "id": "af3ae029-aeb4-4973-bd0c-72ee7f5feb91",
   "metadata": {},
   "source": [
    "Fine-tuning RUDOLPH-а будум проводить следующим образом: контекст и вопрос будем подавать в левые текстовые токены, а ответ на вопрос будем ожидать в правых текстовых токенах. Вместо токенов изображения подаются нули."
   ]
  },
  {
   "cell_type": "markdown",
   "id": "1771292e-8f2b-408f-bb12-7986e511bfce",
   "metadata": {},
   "source": [
    "При предобучении RUDOLPH-а использовался набор спец-символов для левых и правых текстовых токенов, который служил для определения типа решаемой задачи (`<LT_T2I>` и `<LT_T2I>`).\n",
    "\n",
    "Добавим в словарь дополнительные спец-символы (`<LT_TQA>` и `<LT_TQA>`), которые добавляются в начало левых и правых текстовых токенов, соответственно. С помощью данных спец-токенов добавляем модели знания о решаемой задаче.\n",
    "\n",
    "Входная последовательность будет выглядеть следующим образом: \n",
    "```<BOS> <LT_TQA> <context> <question> <EOS>``` ```<zeros-image-tokens>```\n",
    "```<BOS> <RT_TQA> <answer> <EOS>```"
   ]
  },
  {
   "cell_type": "code",
   "execution_count": 9,
   "id": "508a3702-7490-4186-ae2a-9e3bffeeceb3",
   "metadata": {},
   "outputs": [],
   "source": [
    "class Args():\n",
    "    def __init__(self, model, checkpoint_path):\n",
    "        self.device = model.get_param('device')\n",
    "        self.l_text_seq_length = model.get_param('l_text_seq_length')\n",
    "        self.r_text_seq_length = model.get_param('r_text_seq_length')\n",
    "        self.image_tokens_per_dim = model.get_param('image_tokens_per_dim')\n",
    "        self.image_seq_length = model.get_param('image_seq_length')\n",
    "        self.epochs = 1\n",
    "        self.save_path= checkpoint_path\n",
    "        self.model_name = 'rudolph_sberquad_'\n",
    "        self.save_every = 1000\n",
    "        self.bs = 4\n",
    "        self.clip = 1.0\n",
    "        self.lr = 2e-5\n",
    "        self.wandb = False\n",
    "        self.lt_loss_weight = 0.01\n",
    "        self.img_loss_weight = 0.01\n",
    "        self.rt_loss_weight = 7\n",
    "        self.image_size = self.image_tokens_per_dim * 8\n",
    "        \n",
    "checkpoint_path = './model/checkpoints/'\n",
    "args = Args(model, checkpoint_path)\n",
    "if not os.path.exists(args.save_path):\n",
    "    os.makedirs(args.save_path)"
   ]
  },
  {
   "cell_type": "code",
   "execution_count": 10,
   "id": "98628c06-f2af-4a63-9b5f-a10e80075a95",
   "metadata": {},
   "outputs": [],
   "source": [
    "SPC_TOKENS = {\n",
    "    '<LT_UNK>': 16384,\n",
    "    '<RT_UNK>': 16385,\n",
    "    '<LT_T2I>': 16386,\n",
    "    '<LT_I2T>': 16387,\n",
    "    '<LT_T2T>': 16388,\n",
    "    '<RT_I2T>': 16389,\n",
    "    \n",
    "    '<LT_TQA>': 16390,\n",
    "    '<RT_TQA>': 16391,\n",
    "}"
   ]
  },
  {
   "cell_type": "markdown",
   "id": "a390ee81-663d-4e49-a077-ebccbaf2de68",
   "metadata": {},
   "source": [
    "# Dataset"
   ]
  },
  {
   "cell_type": "code",
   "execution_count": 11,
   "id": "5cff6b5e-a00e-4a11-a5a5-50cf802f1b8f",
   "metadata": {},
   "outputs": [],
   "source": [
    "class SQuADDataset(Dataset):\n",
    "    spc_id = -1\n",
    "    \n",
    "    def __init__(self, dataset, tokenizer, args):\n",
    "        self.tokenizer = tokenizer\n",
    "        self.dataset = dataset\n",
    "        self.args = args\n",
    "        self.spc_tokens = SPC_TOKENS\n",
    "        \n",
    "    def __len__(self):\n",
    "        return len(self.dataset)\n",
    "    \n",
    "    def encode_text(self, text, text_seq_length, add_special = True):\n",
    "        tokens = self.tokenizer.tokenizer.encode([text], output_type=yttm.OutputType.ID)[0]\n",
    "        bos = [self.tokenizer.bos_id]\n",
    "        if add_special:\n",
    "            bos.append(self.spc_id)\n",
    "        tokens = bos + tokens + [self.tokenizer.eos_id]\n",
    "        return self.tokenizer.prepare_tokens(tokens, text_seq_length)\n",
    "   \n",
    "    def __getitem__(self, item):\n",
    "        \n",
    "        left_text = self.dataset['context'][item] + ' ' + self.dataset['question'][item]\n",
    "        right_text = self.dataset['answers'][item]['text'][0]\n",
    "        \n",
    "        left_special_token = '<LT_TQA>'\n",
    "        right_special_token = '<RT_TQA>'\n",
    "        \n",
    "        left_text = left_text.lower().strip()\n",
    "        left_encoded_text = self.encode_text(left_text, text_seq_length=self.args.l_text_seq_length)\n",
    "        left_encoded_text[torch.where(left_encoded_text == self.spc_id)] = self.spc_tokens[left_special_token]\n",
    "        \n",
    "        right_text = right_text.lower().strip()\n",
    "        right_encoded_text = self.encode_text(right_text, text_seq_length=self.args.r_text_seq_length)\n",
    "        right_encoded_text[torch.where(right_encoded_text == self.spc_id)] = self.spc_tokens[right_special_token]\n",
    "        \n",
    "        return left_encoded_text, right_encoded_text\n",
    "    "
   ]
  },
  {
   "cell_type": "markdown",
   "id": "579b2f82-fb4b-4e2e-9148-72b7ec199189",
   "metadata": {},
   "source": [
    "Функция для декодирования последовательности текстовых токенов."
   ]
  },
  {
   "cell_type": "code",
   "execution_count": 12,
   "id": "6baeb414-edc8-41ef-b22d-7fdb6e82834e",
   "metadata": {},
   "outputs": [],
   "source": [
    "def decode_text(tokenizer, encoded, ignore_ids):\n",
    "    return tokenizer.tokenizer.decode(encoded.cpu().numpy().tolist(), ignore_ids=ignore_ids)[0]"
   ]
  },
  {
   "cell_type": "markdown",
   "id": "79f361a4-9908-47a5-8dbd-541b59fad5d2",
   "metadata": {},
   "source": [
    "Посмотрим на датасет"
   ]
  },
  {
   "cell_type": "code",
   "execution_count": 13,
   "id": "3aa241bc-3aab-4b4c-9a55-8624fd2bf541",
   "metadata": {},
   "outputs": [],
   "source": [
    "dataset_qa = SQuADDataset(train_data, tokenizer, args)"
   ]
  },
  {
   "cell_type": "code",
   "execution_count": 14,
   "id": "0e7e76eb-2bbe-4cd6-aa6b-7848ac1511b7",
   "metadata": {},
   "outputs": [],
   "source": [
    "idx = random.randint(0, len(dataset_qa)-1)\n",
    "left_encoded_text, right_encoded_text = dataset_qa[idx]"
   ]
  },
  {
   "cell_type": "code",
   "execution_count": 15,
   "id": "05655094-bae9-4794-b626-cc88e0467064",
   "metadata": {},
   "outputs": [],
   "source": [
    "spc_id = -1"
   ]
  },
  {
   "cell_type": "code",
   "execution_count": 16,
   "id": "f25254e1-cebb-4f7b-885e-76d1a80b7fb1",
   "metadata": {},
   "outputs": [],
   "source": [
    "# Токены, которые будут игнорироваться токенизатором при декодировании.\n",
    "ignore_ids = [\n",
    "    tokenizer.eos_id, tokenizer.bos_id, tokenizer.unk_id, tokenizer.pad_id,\n",
    "    spc_id, *list(SPC_TOKENS.values())\n",
    "]"
   ]
  },
  {
   "cell_type": "code",
   "execution_count": 17,
   "id": "b1420126-33a6-45ad-8b03-9450f5550df5",
   "metadata": {},
   "outputs": [
    {
     "name": "stdout",
     "output_type": "stream",
     "text": [
      "Контекст + Вопрос:  половая зрелость может наступать в разные сроки и при разной длине. как правило, половое созревание наступает у самцов окуня в возрасте 2—3 лет[27][109], у самок — несколько позднее, в 4—5 лет[155]. для некоторых водоёмов, например, для озёр убинское (новосибирская область), тразимено (италия) и пауни (новая зеландия), отмечены случаи, когда окунь становился половозрелым в возрасте 1 года[7][156]. у окуней из низовий енисея половое созревание может наступить только в 6 лет[156], а в озере хубсугул — в 7 лет[45]. отмечалось увеличение возраста полового созревания самок в реках после создания водохранилищ[157]. когда наступает половое созревания у окуней в озере хубсугул?\n",
      "Ответ:  в 7 лет\n"
     ]
    }
   ],
   "source": [
    "print('Контекст + Вопрос: ', decode_text(tokenizer, left_encoded_text, ignore_ids))\n",
    "print('Ответ: ', decode_text(tokenizer, right_encoded_text, ignore_ids))"
   ]
  },
  {
   "cell_type": "markdown",
   "id": "9a4b8a1b-3043-4a24-bb9b-08f59f31bc19",
   "metadata": {},
   "source": [
    "## RUDOLPH fine-tuning"
   ]
  },
  {
   "cell_type": "code",
   "execution_count": 18,
   "id": "7ed8f73c-0026-4f19-8c55-aedde2415f4d",
   "metadata": {},
   "outputs": [],
   "source": [
    "try:\n",
    "    if args.wandb:\n",
    "        wandb.init(project = args.model_name)\n",
    "except:\n",
    "    args.wandb = False\n",
    "    print('If you want to use wandb logs pls login via wandb -login')"
   ]
  },
  {
   "cell_type": "markdown",
   "id": "c58de043-8ca6-4a40-b082-38bf7bfff6ae",
   "metadata": {},
   "source": [
    "Можно заморозить некоторые веса модели для ускорения процесса обучения."
   ]
  },
  {
   "cell_type": "code",
   "execution_count": 19,
   "id": "99f955a7-e91c-4833-a123-f21f81bcb557",
   "metadata": {},
   "outputs": [],
   "source": [
    "def freeze(\n",
    "    model,\n",
    "    freeze_emb=False,\n",
    "    freeze_ln=False,\n",
    "    freeze_attn=True,\n",
    "    freeze_ff=True,\n",
    "    freeze_other=False,\n",
    "):\n",
    "    for name, p in model.module.named_parameters():\n",
    "        name = name.lower()\n",
    "        if 'ln' in name or 'norm' in name:\n",
    "            p.requires_grad = not freeze_ln\n",
    "        elif 'embeddings' in name:\n",
    "            p.requires_grad = not freeze_emb\n",
    "        elif 'mlp' in name:\n",
    "            p.requires_grad = not freeze_ff\n",
    "        elif 'attn' in name:\n",
    "            p.requires_grad = not freeze_attn\n",
    "        else:\n",
    "            p.requires_grad = not freeze_other\n",
    "    return model"
   ]
  },
  {
   "cell_type": "code",
   "execution_count": 21,
   "id": "fc83cc32-5058-4cfd-8de8-20e7f75bb740",
   "metadata": {},
   "outputs": [],
   "source": [
    "train_dataloader = DataLoader(dataset_qa, batch_size=args.bs, shuffle=True, drop_last=True)"
   ]
  },
  {
   "cell_type": "code",
   "execution_count": 22,
   "id": "c90d755a-7b38-4ef0-85c1-34fed218b8d1",
   "metadata": {},
   "outputs": [],
   "source": [
    "model.train()\n",
    "optimizer = bnb.optim.Adam8bit(model.parameters(), lr=args.lr)\n",
    "\n",
    "scheduler = torch.optim.lr_scheduler.OneCycleLR(\n",
    "    optimizer, max_lr=args.lr, final_div_factor=500, \n",
    "    steps_per_epoch=len(train_dataloader), epochs=args.epochs\n",
    ")"
   ]
  },
  {
   "cell_type": "code",
   "execution_count": 23,
   "id": "e99e7000-4685-4533-be3c-9c4adaec9a5b",
   "metadata": {},
   "outputs": [],
   "source": [
    "def load_checkpoint(model, optimizer, losslogger, filename='checkpoint.pt'):\n",
    "    # Note: Input model & optimizer should be pre-defined.  This routine only updates their states.\n",
    "    start_epoch = 0\n",
    "    if os.path.isfile(filename):\n",
    "        print(\"=> loading checkpoint '{}'\".format(filename))\n",
    "        checkpoint = torch.load(filename)\n",
    "        start_epoch = checkpoint['epoch']\n",
    "        model.load_state_dict(checkpoint['state_dict'])\n",
    "        optimizer.load_state_dict(checkpoint['optimizer'])\n",
    "        losslogger = checkpoint['losslogger']\n",
    "        print(\"=> loaded checkpoint '{}' (epoch {})\"\n",
    "                  .format(filename, checkpoint['epoch']))\n",
    "    else:\n",
    "        print(\"=> no checkpoint found at '{}'\".format(filename))\n",
    "\n",
    "    return model, optimizer, start_epoch, losslogger"
   ]
  },
  {
   "cell_type": "code",
   "execution_count": 24,
   "id": "2e6dc457-b807-414e-83f4-6a3585686eae",
   "metadata": {},
   "outputs": [],
   "source": [
    "def train(model, optimizer, scheduler, args: Args, train_dataloader, from_checkpoints = False):\n",
    "    \"\"\"\n",
    "      args - arguments for training\n",
    "\n",
    "      train_dataloader - SQuADDataset class with text_q - text_a pairs in batch\n",
    "      \"\"\"\n",
    "    loss_logs = []\n",
    "    try:\n",
    "        t_steps = len(train_dataloader)*args.epochs\n",
    "        progress = tqdm(total = t_steps, desc='🦌🦌🦌finetuning process🦌🦌🦌')\n",
    "    \n",
    "        save_counter = 0\n",
    "        start_epoch = 0\n",
    "        \n",
    "        if from_checkpoints:\n",
    "            model, optimizer, start_epoch, loss_logs = load_checkpoint(model, optimizer, loss_logs, filename=os.path.join(args.save_path,f\"rudolph_sberquad_state6.pt\"))\n",
    "\n",
    "        for epoch in range(start_epoch, args.epochs):\n",
    "      \n",
    "          for encoded_left_text, encoded_right_text in train_dataloader: #, prompt, word\n",
    "        \n",
    "            bs_text = encoded_left_text.shape[0]\n",
    "        \n",
    "            save_counter+=1\n",
    "\n",
    "            model.zero_grad()\n",
    "\n",
    "            image_seq_length = args.image_tokens_per_dim ** 2\n",
    "            total_seq_length = args.l_text_seq_length + image_seq_length + args.r_text_seq_length\n",
    "        \n",
    "            attention_mask_text = get_attention_mask(bs_text, args.l_text_seq_length,\n",
    "                                                 args.image_tokens_per_dim, \n",
    "                                                 args.r_text_seq_length, args.device)\n",
    "        \n",
    "            image_input_ids_text = torch.zeros((bs_text, image_seq_length), dtype=torch.int32).to(args.device)\n",
    "            input_ids_text = torch.cat((encoded_left_text.to(args.device), image_input_ids_text, encoded_right_text.to(args.device)), dim=1)\n",
    "        \n",
    "            loss, loss_values = model.forward(input_ids_text, attention_mask_text, \n",
    "                                                             lt_loss_weight=args.lt_loss_weight,\n",
    "                                                             img_loss_weight=args.img_loss_weight, \n",
    "                                                             rt_loss_weight=args.rt_loss_weight, return_loss=True)\n",
    "            \n",
    "\n",
    "            loss.backward()\n",
    "            \n",
    "            torch.nn.utils.clip_grad_norm_(model.parameters(),args.clip)\n",
    "            optimizer.step()\n",
    "            scheduler.step()\n",
    "            optimizer.zero_grad()\n",
    "            if save_counter % args.save_every == 0:\n",
    "                print(f'Saving checkpoint here {args.model_name}_rudolph_{save_counter}.pt')\n",
    "                plt.plot(loss_logs)\n",
    "                plt.show()\n",
    "                state = {'epoch': epoch + 1, 'state_dict': model.state_dict(),\n",
    "                         'optimizer': optimizer.state_dict(), 'losslogger': loss_logs}\n",
    "                torch.save(\n",
    "                    model.state_dict(),\n",
    "                    os.path.join(args.save_path,f\"{args.model_name}rudolph_{save_counter}.pt\")\n",
    "                )\n",
    "                torch.save(\n",
    "                    state,\n",
    "                    os.path.join(args.save_path,f\"{args.model_name}state_{save_counter}.pt\")\n",
    "                )\n",
    "\n",
    "            if args.wandb:\n",
    "                wandb.log({\"loss\":  loss.item()})\n",
    "            loss_logs+=[loss.item()]\n",
    "            progress.update()\n",
    "            progress.set_postfix({\"loss\": loss.item()})\n",
    "    \n",
    "        print(f'Complitly tuned and saved here  {args.model_name}__textqa_last.pt')\n",
    "        plt.plot(loss_logs)\n",
    "        plt.show()\n",
    "        torch.save(\n",
    "            model.state_dict(),\n",
    "            os.path.join(args.save_path,f\"{args.model_name}textqa_last.pt\")\n",
    "        )\n",
    "    except KeyboardInterrupt:\n",
    "    \n",
    "    \n",
    "        print(f'What for did you stopped? Please change model_path to /{args.save_path}/{args.model_name}_rudolf_Failed_train')\n",
    "        plt.plot(loss_logs)\n",
    "        plt.show()\n",
    "    \n",
    "        torch.save(\n",
    "                model.state_dict(),\n",
    "                os.path.join(args.save_path,f\"{args.model_name}_rudolf_Failed_train.pt\")\n",
    "                )\n",
    "    except Exception as err:\n",
    "        print(f'Failed with {err}')"
   ]
  },
  {
   "cell_type": "code",
   "execution_count": 25,
   "id": "4d4f0ea0-139f-432c-842b-1c7a1f066e4a",
   "metadata": {},
   "outputs": [],
   "source": [
    "#!rm -r ./model/checkpoints"
   ]
  },
  {
   "cell_type": "code",
   "execution_count": 26,
   "id": "e7caf877-683d-467f-bb7b-a2902c978f24",
   "metadata": {},
   "outputs": [],
   "source": [
    "#!mkdir ./model/checkpoints"
   ]
  },
  {
   "cell_type": "code",
   "execution_count": 27,
   "id": "ea1eef0a-4aba-4e95-a427-ac370118e62a",
   "metadata": {},
   "outputs": [
    {
     "data": {
      "application/vnd.jupyter.widget-view+json": {
       "model_id": "1f53c4b0c9884b54871a3772ec43c931",
       "version_major": 2,
       "version_minor": 0
      },
      "text/plain": [
       "🦌🦌🦌finetuning process🦌🦌🦌:   0%|          | 0/11332 [00:00<?, ?it/s]"
      ]
     },
     "metadata": {},
     "output_type": "display_data"
    },
    {
     "name": "stdout",
     "output_type": "stream",
     "text": [
      "Saving checkpoint here rudolph_sberquad__rudolph_1000.pt\n"
     ]
    },
    {
     "data": {
      "image/png": "[encoded data removed]",
      "text/plain": [
       "<Figure size 432x288 with 1 Axes>"
      ]
     },
     "metadata": {
      "needs_background": "light"
     },
     "output_type": "display_data"
    },
    {
     "name": "stdout",
     "output_type": "stream",
     "text": [
      "Saving checkpoint here rudolph_sberquad__rudolph_2000.pt\n"
     ]
    },
    {
     "data": {
      "image/png": "[encoded data removed]",
      "text/plain": [
       "<Figure size 432x288 with 1 Axes>"
      ]
     },
     "metadata": {
      "needs_background": "light"
     },
     "output_type": "display_data"
    },
    {
     "name": "stdout",
     "output_type": "stream",
     "text": [
      "Saving checkpoint here rudolph_sberquad__rudolph_3000.pt\n"
     ]
    },
    {
     "data": {
      "image/png": "[encoded data removed]",
      "text/plain": [
       "<Figure size 432x288 with 1 Axes>"
      ]
     },
     "metadata": {
      "needs_background": "light"
     },
     "output_type": "display_data"
    },
    {
     "name": "stdout",
     "output_type": "stream",
     "text": [
      "Saving checkpoint here rudolph_sberquad__rudolph_4000.pt\n"
     ]
    },
    {
     "data": {
      "image/png": "[encoded data removed]",
      "text/plain": [
       "<Figure size 432x288 with 1 Axes>"
      ]
     },
     "metadata": {
      "needs_background": "light"
     },
     "output_type": "display_data"
    },
    {
     "name": "stdout",
     "output_type": "stream",
     "text": [
      "Saving checkpoint here rudolph_sberquad__rudolph_5000.pt\n"
     ]
    },
    {
     "data": {
      "image/png": "[encoded data removed]",
      "text/plain": [
       "<Figure size 432x288 with 1 Axes>"
      ]
     },
     "metadata": {
      "needs_background": "light"
     },
     "output_type": "display_data"
    },
    {
     "name": "stdout",
     "output_type": "stream",
     "text": [
      "Saving checkpoint here rudolph_sberquad__rudolph_6000.pt\n"
     ]
    },
    {
     "data": {
      "image/png": "[encoded data removed]",
      "text/plain": [
       "<Figure size 432x288 with 1 Axes>"
      ]
     },
     "metadata": {
      "needs_background": "light"
     },
     "output_type": "display_data"
    },
    {
     "name": "stdout",
     "output_type": "stream",
     "text": [
      "Saving checkpoint here rudolph_sberquad__rudolph_7000.pt\n"
     ]
    },
    {
     "data": {
      "image/png": "[encoded data removed]",
      "text/plain": [
       "<Figure size 432x288 with 1 Axes>"
      ]
     },
     "metadata": {
      "needs_background": "light"
     },
     "output_type": "display_data"
    },
    {
     "name": "stdout",
     "output_type": "stream",
     "text": [
      "Saving checkpoint here rudolph_sberquad__rudolph_8000.pt\n"
     ]
    },
    {
     "data": {
      "image/png": "[encoded data removed]",
      "text/plain": [
       "<Figure size 432x288 with 1 Axes>"
      ]
     },
     "metadata": {
      "needs_background": "light"
     },
     "output_type": "display_data"
    },
    {
     "name": "stdout",
     "output_type": "stream",
     "text": [
      "Saving checkpoint here rudolph_sberquad__rudolph_9000.pt\n"
     ]
    },
    {
     "data": {
      "image/png": "[encoded data removed]",
      "text/plain": [
       "<Figure size 432x288 with 1 Axes>"
      ]
     },
     "metadata": {
      "needs_background": "light"
     },
     "output_type": "display_data"
    },
    {
     "name": "stdout",
     "output_type": "stream",
     "text": [
      "Saving checkpoint here rudolph_sberquad__rudolph_10000.pt\n"
     ]
    },
    {
     "data": {
      "image/png": "[encoded data removed]",
      "text/plain": [
       "<Figure size 432x288 with 1 Axes>"
      ]
     },
     "metadata": {
      "needs_background": "light"
     },
     "output_type": "display_data"
    },
    {
     "name": "stdout",
     "output_type": "stream",
     "text": [
      "Saving checkpoint here rudolph_sberquad__rudolph_11000.pt\n"
     ]
    },
    {
     "data": {
      "image/png": "[encoded data removed]",
      "text/plain": [
       "<Figure size 432x288 with 1 Axes>"
      ]
     },
     "metadata": {
      "needs_background": "light"
     },
     "output_type": "display_data"
    },
    {
     "name": "stdout",
     "output_type": "stream",
     "text": [
      "Complitly tuned and saved here  rudolph_sberquad___textqa_last.pt\n"
     ]
    },
    {
     "data": {
      "image/png": "[encoded data removed]",
      "text/plain": [
       "<Figure size 432x288 with 1 Axes>"
      ]
     },
     "metadata": {
      "needs_background": "light"
     },
     "output_type": "display_data"
    }
   ],
   "source": [
    "model = freeze(\n",
    "    model=model,\n",
    "    freeze_emb=False,\n",
    "    freeze_ln=False,\n",
    "    freeze_attn=True,\n",
    "    freeze_ff=True,\n",
    "    freeze_other=False,\n",
    ") \n",
    "\n",
    "train(model, optimizer, scheduler, args, train_dataloader)"
   ]
  },
  {
   "cell_type": "markdown",
   "id": "d06f09bd-e6d6-444f-9223-9a642b2060fc",
   "metadata": {},
   "source": [
    "## Inference "
   ]
  },
  {
   "cell_type": "markdown",
   "id": "fdd58c01-f390-4f21-8f15-166845c8c0e3",
   "metadata": {},
   "source": [
    "Итак, RUDOLPH научился отвечать на вопросы по прочитанному тексту, время посмотреть на ответы."
   ]
  },
  {
   "cell_type": "markdown",
   "id": "ad9f67e7-586b-47e3-a7d3-78ceabf94136",
   "metadata": {},
   "source": [
    "В классе RuDolphApi присутствует большое количество методов для запуска RUDOLPH-а на разнообразных задачах (generate_text - для генерации текста в левых токенах, image_captioning - генерация описания изображения, dream - генерация изображения по запросу, ...)\n",
    "\n",
    "Для получения ответов в необходимом нам формате создадим собственный класс ruDolphTextQAApi, который наследует от ruDolphApi, и определим в нем функцию generate_text_answers, которая принимает на вход левые текстовые токены и токены изображения и генерирует ответ в правых текстовых токенах."
   ]
  },
  {
   "cell_type": "code",
   "execution_count": 29,
   "id": "56b727ed-aad6-4e7b-b242-1e201907e33a",
   "metadata": {},
   "outputs": [],
   "source": [
    "class ruDolphTextQAApi(ruDolphApi):\n",
    "    def __init__(self, model, tokenizer, vae, spc_tokens=None, quiet=False, *, bs=24, q=0.5, txt_top_k=64,\n",
    "                 img_top_k=768, txt_top_p=0.8, img_top_p=0.99, txt_temperature=0.9, img_temperature=1.0):\n",
    "        \n",
    "        super().__init__(model = model, tokenizer = tokenizer, vae = vae, spc_tokens = spc_tokens, quiet = quiet, bs = bs, q = q, txt_top_k = txt_top_k,\n",
    "                 img_top_k = img_top_k, txt_top_p = txt_top_p, img_top_p = img_top_p, txt_temperature = txt_temperature, img_temperature = img_temperature)\n",
    "    \n",
    "    def generate_text_answers(self, image_tokens, left_text, vocab_size, top_k, top_p, temperature=1.0, use_cache=True, template='', allowed_token_ids=None, special_token='<RT_TQA>'):\n",
    "        '''\n",
    "            Generate right text tokens.\n",
    "        '''\n",
    "        self.model.eval()\n",
    "        torch.cuda.empty_cache()\n",
    "        generated_tokens = []\n",
    "        chunk_bs = left_text.shape[0]\n",
    "\n",
    "        # В случае если мы передаем какое либо унифицированное начало для всех ответов в правые текстовые токены\n",
    "        template = template.lower().strip()\n",
    "        template_encoded = self.encode_text(template, text_seq_length=self.r_text_seq_length)\n",
    "    \n",
    "        template_size = (template_encoded != 0).sum() - 1  # eos\n",
    "        \n",
    "        template_encoded = template_encoded[:template_size]\n",
    "        template_encoded[torch.where(template_encoded == self.spc_id)] = self.spc_tokens[special_token]\n",
    "        \n",
    "        #print('Decoded sequence', self.decode_text(template_encoded))\n",
    "\n",
    "        with torch.no_grad():\n",
    "            attention_mask = self.get_attention_mask(chunk_bs)\n",
    "\n",
    "            out = torch.cat((\n",
    "                left_text.to(self.device),\n",
    "                image_tokens,\n",
    "                template_encoded.repeat(chunk_bs, 1).to(self.device),\n",
    "            ), dim=1)\n",
    "\n",
    "            cache = None\n",
    "            iter_range = range(\n",
    "                self.l_text_seq_length + self.image_seq_length + template_size, \n",
    "                self.l_text_seq_length + self.image_seq_length + self.r_text_seq_length\n",
    "            )\n",
    "            \n",
    "            if not self.quiet:\n",
    "                iter_range = tqdm(iter_range)\n",
    "                \n",
    "            for _ in iter_range:  \n",
    "                logits, cache = self.model(out, attention_mask, cache=cache, use_cache=use_cache, return_loss=False)\n",
    "                \n",
    "                logits = logits[:, -1, :self.vocab_size]\n",
    "            \n",
    "                if allowed_token_ids:\n",
    "                    logits = logits[:, allowed_token_ids]\n",
    "            \n",
    "                logits /= temperature\n",
    "                filtered_logits = transformers.top_k_top_p_filtering(logits, top_k=top_k, top_p=top_p)\n",
    "                probs = torch.nn.functional.softmax(filtered_logits, dim=-1)\n",
    "                sample = torch.multinomial(probs, 1)\n",
    "            \n",
    "                if allowed_token_ids:\n",
    "                        sample = torch.tensor(allowed_token_ids).to(self.device)[sample]\n",
    "            \n",
    "                indexes = torch.where(sample >= self.vocab_size - self.l_text_seq_length)\n",
    "                sample[indexes] = 3\n",
    "                out = torch.cat((out, sample), dim=-1)\n",
    "\n",
    "            generated_tokens.append(out[:, -self.r_text_seq_length:])\n",
    "\n",
    "        tokens = torch.cat(generated_tokens)[:,1:]\n",
    "\n",
    "        texts = []\n",
    "\n",
    "        for i in range(tokens.shape[0]):\n",
    "            end = torch.where(tokens[i] == 3)[0]\n",
    "            if (len(end) > 0):\n",
    "                end = end[0]\n",
    "            else:\n",
    "                end = tokens[i].shape[0]\n",
    "            \n",
    "            text = self.decode_text(tokens[i][:end+1]).strip()#end+1\n",
    "            if text:\n",
    "                texts.append(text)\n",
    "            else:\n",
    "                texts.append('пустая строка')\n",
    "        return texts"
   ]
  },
  {
   "cell_type": "code",
   "execution_count": 34,
   "id": "e1bdb7f4-5bfc-40e0-bf3e-d263af86e1b5",
   "metadata": {},
   "outputs": [],
   "source": [
    "def inference_textqa(model, tokenizer, vae, dataloader, show_answers = False):\n",
    "    api = ruDolphTextQAApi(model, tokenizer, vae)\n",
    "    \n",
    "    vocab_size = model.get_param('vocab_size')\n",
    "    image_tokens_per_dim = model.get_param('image_tokens_per_dim')\n",
    "    l_text_seq_length = model.get_param('l_text_seq_length')\n",
    "    r_text_seq_length = model.get_param('r_text_seq_length')\n",
    "    image_seq_length = model.get_param('image_seq_length')\n",
    "    device = model.get_param('device')\n",
    "    \n",
    "    spc_id = -1\n",
    "    \n",
    "    vocab = tokenizer.tokenizer.vocab()\n",
    "    \n",
    "    ignore_ids = [\n",
    "    tokenizer.eos_id, tokenizer.bos_id, tokenizer.unk_id, tokenizer.pad_id,\n",
    "    spc_id, *list(SPC_TOKENS.values())\n",
    "    ]\n",
    "    \n",
    "    # allowed_token_ids - список токенов, которые может сгенерировать модель (в случае, если мы хотим ограничить выходной словарь)\n",
    "    allowed_token_ids = []\n",
    "    for i, token in enumerate(vocab):\n",
    "        allowed_token_ids.append(i)\n",
    "        \n",
    "    generated_answers = []\n",
    "    for batch in tqdm(dataloader):\n",
    "        left_text, right_text = batch\n",
    "        left_text = left_text.to(device)\n",
    "        bs = left_text.shape[0]\n",
    "        image_input_ids_text = torch.zeros((bs, image_seq_length), dtype=torch.int32).to(args.device)\n",
    "        \n",
    "        ## Генерируем правые текстовые токены\n",
    "        texts = api.generate_text_answers(image_input_ids_text, left_text, vocab_size, \n",
    "                                    top_k=32, top_p=0.8, temperature=1.0, template = '', \n",
    "                                    allowed_token_ids = allowed_token_ids, special_token='<RT_UNK>')\n",
    "            \n",
    "        generated_answers.extend(texts)\n",
    "        ## Посмотрим на ответы, сгенерированные моделью \n",
    "        if (show_answers):\n",
    "            i = random.choice(range(len(texts)))\n",
    "            print('Контекст + вопрос :', decode_text(tokenizer, left_text[i], ignore_ids))\n",
    "            print('*'*80)\n",
    "            print('Ответ :', texts[i])\n",
    "    return generated_answers"
   ]
  },
  {
   "cell_type": "code",
   "execution_count": 35,
   "id": "c58d0e83-ac64-4297-a986-5874fe6e791e",
   "metadata": {},
   "outputs": [],
   "source": [
    "torch.cuda.empty_cache()"
   ]
  },
  {
   "cell_type": "code",
   "execution_count": 55,
   "id": "767ad0eb-6687-414c-99c8-5edb19e3126d",
   "metadata": {},
   "outputs": [],
   "source": [
    "dataset_qa_test = SQuADDataset(val_data, tokenizer, args)\n",
    "test_dataloader = DataLoader(dataset_qa_test, batch_size=26, shuffle=False, drop_last=False)\n",
    "\n",
    "#model.load_state_dict(torch.load(checkpoint_path + 'rudolph_sberquad__rudolph_5000.pt'))\n",
    "model.eval();"
   ]
  },
  {
   "cell_type": "code",
   "execution_count": 56,
   "id": "76e5342d-e700-414f-9b53-f361aabf7279",
   "metadata": {},
   "outputs": [
    {
     "data": {
      "application/vnd.jupyter.widget-view+json": {
       "model_id": "f48a00195c974a1381581f6e0f0398a8",
       "version_major": 2,
       "version_minor": 0
      },
      "text/plain": [
       "  0%|          | 0/194 [00:00<?, ?it/s]"
      ]
     },
     "metadata": {},
     "output_type": "display_data"
    },
    {
     "data": {
      "application/vnd.jupyter.widget-view+json": {
       "model_id": "ed0bbc97b55343a29cf65f2316ff3a9c",
       "version_major": 2,
       "version_minor": 0
      },
      "text/plain": [
       "  0%|          | 0/126 [00:00<?, ?it/s]"
      ]
     },
     "metadata": {},
     "output_type": "display_data"
    },
    {
     "data": {
      "application/vnd.jupyter.widget-view+json": {
       "model_id": "847ca5b6a62642a2b1710590e7b98d45",
       "version_major": 2,
       "version_minor": 0
      },
      "text/plain": [
       "  0%|          | 0/126 [00:00<?, ?it/s]"
      ]
     },
     "metadata": {},
     "output_type": "display_data"
    },
    {
     "data": {
      "application/vnd.jupyter.widget-view+json": {
       "model_id": "74492ba148254e1390d76567979851dd",
       "version_major": 2,
       "version_minor": 0
      },
      "text/plain": [
       "  0%|          | 0/126 [00:00<?, ?it/s]"
      ]
     },
     "metadata": {},
     "output_type": "display_data"
    },
    {
     "data": {
      "application/vnd.jupyter.widget-view+json": {
       "model_id": "71c41c625af545c8b44e84e3015cc137",
       "version_major": 2,
       "version_minor": 0
      },
      "text/plain": [
       "  0%|          | 0/126 [00:00<?, ?it/s]"
      ]
     },
     "metadata": {},
     "output_type": "display_data"
    },
    {
     "data": {
      "application/vnd.jupyter.widget-view+json": {
       "model_id": "61016f126131448a96cf462a08f907c2",
       "version_major": 2,
       "version_minor": 0
      },
      "text/plain": [
       "  0%|          | 0/126 [00:00<?, ?it/s]"
      ]
     },
     "metadata": {},
     "output_type": "display_data"
    },
    {
     "data": {
      "application/vnd.jupyter.widget-view+json": {
       "model_id": "7168d0f5948f4517a16909e259e9fc4e",
       "version_major": 2,
       "version_minor": 0
      },
      "text/plain": [
       "  0%|          | 0/126 [00:00<?, ?it/s]"
      ]
     },
     "metadata": {},
     "output_type": "display_data"
    },
    {
     "data": {
      "application/vnd.jupyter.widget-view+json": {
       "model_id": "a2fab58f637c4881a28053e3a7e4a394",
       "version_major": 2,
       "version_minor": 0
      },
      "text/plain": [
       "  0%|          | 0/126 [00:00<?, ?it/s]"
      ]
     },
     "metadata": {},
     "output_type": "display_data"
    },
    {
     "data": {
      "application/vnd.jupyter.widget-view+json": {
       "model_id": "22749e7db49046468a4a9c38858e43e3",
       "version_major": 2,
       "version_minor": 0
      },
      "text/plain": [
       "  0%|          | 0/126 [00:00<?, ?it/s]"
      ]
     },
     "metadata": {},
     "output_type": "display_data"
    },
    {
     "data": {
      "application/vnd.jupyter.widget-view+json": {
       "model_id": "5e3bf7e5253541539f3379ca22662ad8",
       "version_major": 2,
       "version_minor": 0
      },
      "text/plain": [
       "  0%|          | 0/126 [00:00<?, ?it/s]"
      ]
     },
     "metadata": {},
     "output_type": "display_data"
    },
    {
     "data": {
      "application/vnd.jupyter.widget-view+json": {
       "model_id": "f2e564435112478ca27c1cc234823bbe",
       "version_major": 2,
       "version_minor": 0
      },
      "text/plain": [
       "  0%|          | 0/126 [00:00<?, ?it/s]"
      ]
     },
     "metadata": {},
     "output_type": "display_data"
    },
    {
     "data": {
      "application/vnd.jupyter.widget-view+json": {
       "model_id": "3e7bb3b1a65148788bd31fe3ff395537",
       "version_major": 2,
       "version_minor": 0
      },
      "text/plain": [
       "  0%|          | 0/126 [00:00<?, ?it/s]"
      ]
     },
     "metadata": {},
     "output_type": "display_data"
    },
    {
     "data": {
      "application/vnd.jupyter.widget-view+json": {
       "model_id": "acdbcdb4902048f2a7f3b1978e77e9f8",
       "version_major": 2,
       "version_minor": 0
      },
      "text/plain": [
       "  0%|          | 0/126 [00:00<?, ?it/s]"
      ]
     },
     "metadata": {},
     "output_type": "display_data"
    },
    {
     "data": {
      "application/vnd.jupyter.widget-view+json": {
       "model_id": "1e04ee7276dc4770a3ec939554de6ad3",
       "version_major": 2,
       "version_minor": 0
      },
      "text/plain": [
       "  0%|          | 0/126 [00:00<?, ?it/s]"
      ]
     },
     "metadata": {},
     "output_type": "display_data"
    },
    {
     "data": {
      "application/vnd.jupyter.widget-view+json": {
       "model_id": "e44c519888594a028e864d3461233dc0",
       "version_major": 2,
       "version_minor": 0
      },
      "text/plain": [
       "  0%|          | 0/126 [00:00<?, ?it/s]"
      ]
     },
     "metadata": {},
     "output_type": "display_data"
    },
    {
     "data": {
      "application/vnd.jupyter.widget-view+json": {
       "model_id": "28da58674a1346ee804a5e162e703640",
       "version_major": 2,
       "version_minor": 0
      },
      "text/plain": [
       "  0%|          | 0/126 [00:00<?, ?it/s]"
      ]
     },
     "metadata": {},
     "output_type": "display_data"
    },
    {
     "data": {
      "application/vnd.jupyter.widget-view+json": {
       "model_id": "a5efc0201d394cba88d2ad8f8f439ca8",
       "version_major": 2,
       "version_minor": 0
      },
      "text/plain": [
       "  0%|          | 0/126 [00:00<?, ?it/s]"
      ]
     },
     "metadata": {},
     "output_type": "display_data"
    },
    {
     "data": {
      "application/vnd.jupyter.widget-view+json": {
       "model_id": "514c74d0edd74acfa5938892e4456239",
       "version_major": 2,
       "version_minor": 0
      },
      "text/plain": [
       "  0%|          | 0/126 [00:00<?, ?it/s]"
      ]
     },
     "metadata": {},
     "output_type": "display_data"
    },
    {
     "data": {
      "application/vnd.jupyter.widget-view+json": {
       "model_id": "959f418fbad54946933343da1f56351e",
       "version_major": 2,
       "version_minor": 0
      },
      "text/plain": [
       "  0%|          | 0/126 [00:00<?, ?it/s]"
      ]
     },
     "metadata": {},
     "output_type": "display_data"
    },
    {
     "data": {
      "application/vnd.jupyter.widget-view+json": {
       "model_id": "580bcffa7d5e4cd1a44d587937e268da",
       "version_major": 2,
       "version_minor": 0
      },
      "text/plain": [
       "  0%|          | 0/126 [00:00<?, ?it/s]"
      ]
     },
     "metadata": {},
     "output_type": "display_data"
    },
    {
     "data": {
      "application/vnd.jupyter.widget-view+json": {
       "model_id": "56031bf2cf854791b1d257407b67f980",
       "version_major": 2,
       "version_minor": 0
      },
      "text/plain": [
       "  0%|          | 0/126 [00:00<?, ?it/s]"
      ]
     },
     "metadata": {},
     "output_type": "display_data"
    },
    {
     "data": {
      "application/vnd.jupyter.widget-view+json": {
       "model_id": "78d82ae7f0ae44c4a9bda7526feb970a",
       "version_major": 2,
       "version_minor": 0
      },
      "text/plain": [
       "  0%|          | 0/126 [00:00<?, ?it/s]"
      ]
     },
     "metadata": {},
     "output_type": "display_data"
    },
    {
     "data": {
      "application/vnd.jupyter.widget-view+json": {
       "model_id": "2eae21b3f6bd42ad80b6ea5c25f73bba",
       "version_major": 2,
       "version_minor": 0
      },
      "text/plain": [
       "  0%|          | 0/126 [00:00<?, ?it/s]"
      ]
     },
     "metadata": {},
     "output_type": "display_data"
    },
    {
     "data": {
      "application/vnd.jupyter.widget-view+json": {
       "model_id": "f729adf708dd435e8d59a1ddac3893ea",
       "version_major": 2,
       "version_minor": 0
      },
      "text/plain": [
       "  0%|          | 0/126 [00:00<?, ?it/s]"
      ]
     },
     "metadata": {},
     "output_type": "display_data"
    },
    {
     "data": {
      "application/vnd.jupyter.widget-view+json": {
       "model_id": "d76a334431414bc7b5cb58fcdf6742bc",
       "version_major": 2,
       "version_minor": 0
      },
      "text/plain": [
       "  0%|          | 0/126 [00:00<?, ?it/s]"
      ]
     },
     "metadata": {},
     "output_type": "display_data"
    },
    {
     "data": {
      "application/vnd.jupyter.widget-view+json": {
       "model_id": "3e2b23e8b23a49689d2100b6b2d0678d",
       "version_major": 2,
       "version_minor": 0
      },
      "text/plain": [
       "  0%|          | 0/126 [00:00<?, ?it/s]"
      ]
     },
     "metadata": {},
     "output_type": "display_data"
    },
    {
     "data": {
      "application/vnd.jupyter.widget-view+json": {
       "model_id": "ce1515c1cd894dad905b63b58a354729",
       "version_major": 2,
       "version_minor": 0
      },
      "text/plain": [
       "  0%|          | 0/126 [00:00<?, ?it/s]"
      ]
     },
     "metadata": {},
     "output_type": "display_data"
    },
    {
     "data": {
      "application/vnd.jupyter.widget-view+json": {
       "model_id": "135ecc0bd8484eaf94ba0fcc14323c9f",
       "version_major": 2,
       "version_minor": 0
      },
      "text/plain": [
       "  0%|          | 0/126 [00:00<?, ?it/s]"
      ]
     },
     "metadata": {},
     "output_type": "display_data"
    },
    {
     "data": {
      "application/vnd.jupyter.widget-view+json": {
       "model_id": "a8890615466f4188826224b6651692f2",
       "version_major": 2,
       "version_minor": 0
      },
      "text/plain": [
       "  0%|          | 0/126 [00:00<?, ?it/s]"
      ]
     },
     "metadata": {},
     "output_type": "display_data"
    },
    {
     "data": {
      "application/vnd.jupyter.widget-view+json": {
       "model_id": "22ff9291c3784e8c9f670468ea7e304c",
       "version_major": 2,
       "version_minor": 0
      },
      "text/plain": [
       "  0%|          | 0/126 [00:00<?, ?it/s]"
      ]
     },
     "metadata": {},
     "output_type": "display_data"
    },
    {
     "data": {
      "application/vnd.jupyter.widget-view+json": {
       "model_id": "e5b2d8bad3a54cbe9f7de684512716fa",
       "version_major": 2,
       "version_minor": 0
      },
      "text/plain": [
       "  0%|          | 0/126 [00:00<?, ?it/s]"
      ]
     },
     "metadata": {},
     "output_type": "display_data"
    },
    {
     "data": {
      "application/vnd.jupyter.widget-view+json": {
       "model_id": "d5e8f950b2a8460488aca553e8ae57ac",
       "version_major": 2,
       "version_minor": 0
      },
      "text/plain": [
       "  0%|          | 0/126 [00:00<?, ?it/s]"
      ]
     },
     "metadata": {},
     "output_type": "display_data"
    },
    {
     "data": {
      "application/vnd.jupyter.widget-view+json": {
       "model_id": "3a07093355fb42eebed3e700bae38551",
       "version_major": 2,
       "version_minor": 0
      },
      "text/plain": [
       "  0%|          | 0/126 [00:00<?, ?it/s]"
      ]
     },
     "metadata": {},
     "output_type": "display_data"
    },
    {
     "data": {
      "application/vnd.jupyter.widget-view+json": {
       "model_id": "794aa897a6e54e10916921c7656a0d55",
       "version_major": 2,
       "version_minor": 0
      },
      "text/plain": [
       "  0%|          | 0/126 [00:00<?, ?it/s]"
      ]
     },
     "metadata": {},
     "output_type": "display_data"
    },
    {
     "data": {
      "application/vnd.jupyter.widget-view+json": {
       "model_id": "2917fcd530874edf92f4c906fa5d7592",
       "version_major": 2,
       "version_minor": 0
      },
      "text/plain": [
       "  0%|          | 0/126 [00:00<?, ?it/s]"
      ]
     },
     "metadata": {},
     "output_type": "display_data"
    },
    {
     "data": {
      "application/vnd.jupyter.widget-view+json": {
       "model_id": "be98f2d060ee4bda954d04b8a417f97e",
       "version_major": 2,
       "version_minor": 0
      },
      "text/plain": [
       "  0%|          | 0/126 [00:00<?, ?it/s]"
      ]
     },
     "metadata": {},
     "output_type": "display_data"
    },
    {
     "data": {
      "application/vnd.jupyter.widget-view+json": {
       "model_id": "f05cddddfe144e83afa61bf02c4d8c7f",
       "version_major": 2,
       "version_minor": 0
      },
      "text/plain": [
       "  0%|          | 0/126 [00:00<?, ?it/s]"
      ]
     },
     "metadata": {},
     "output_type": "display_data"
    },
    {
     "data": {
      "application/vnd.jupyter.widget-view+json": {
       "model_id": "64ef37984c914f59893224992e7d9cb3",
       "version_major": 2,
       "version_minor": 0
      },
      "text/plain": [
       "  0%|          | 0/126 [00:00<?, ?it/s]"
      ]
     },
     "metadata": {},
     "output_type": "display_data"
    },
    {
     "data": {
      "application/vnd.jupyter.widget-view+json": {
       "model_id": "a17a5944f3034d5da1e4f40a03aca64c",
       "version_major": 2,
       "version_minor": 0
      },
      "text/plain": [
       "  0%|          | 0/126 [00:00<?, ?it/s]"
      ]
     },
     "metadata": {},
     "output_type": "display_data"
    },
    {
     "data": {
      "application/vnd.jupyter.widget-view+json": {
       "model_id": "496272d167114be4ba9ff5b7c8f53bf9",
       "version_major": 2,
       "version_minor": 0
      },
      "text/plain": [
       "  0%|          | 0/126 [00:00<?, ?it/s]"
      ]
     },
     "metadata": {},
     "output_type": "display_data"
    },
    {
     "data": {
      "application/vnd.jupyter.widget-view+json": {
       "model_id": "bc9dd1f13ba84480b776aca32e41c24a",
       "version_major": 2,
       "version_minor": 0
      },
      "text/plain": [
       "  0%|          | 0/126 [00:00<?, ?it/s]"
      ]
     },
     "metadata": {},
     "output_type": "display_data"
    },
    {
     "data": {
      "application/vnd.jupyter.widget-view+json": {
       "model_id": "0b3b060d522241c9bd44731c2c1d66de",
       "version_major": 2,
       "version_minor": 0
      },
      "text/plain": [
       "  0%|          | 0/126 [00:00<?, ?it/s]"
      ]
     },
     "metadata": {},
     "output_type": "display_data"
    },
    {
     "data": {
      "application/vnd.jupyter.widget-view+json": {
       "model_id": "bd1379da82d84c6487c4a3d4dc691071",
       "version_major": 2,
       "version_minor": 0
      },
      "text/plain": [
       "  0%|          | 0/126 [00:00<?, ?it/s]"
      ]
     },
     "metadata": {},
     "output_type": "display_data"
    },
    {
     "data": {
      "application/vnd.jupyter.widget-view+json": {
       "model_id": "a727cccfe62e456bb6429d79175eb9e5",
       "version_major": 2,
       "version_minor": 0
      },
      "text/plain": [
       "  0%|          | 0/126 [00:00<?, ?it/s]"
      ]
     },
     "metadata": {},
     "output_type": "display_data"
    },
    {
     "data": {
      "application/vnd.jupyter.widget-view+json": {
       "model_id": "1b95bbf98b1247eca0210c832b1e9e50",
       "version_major": 2,
       "version_minor": 0
      },
      "text/plain": [
       "  0%|          | 0/126 [00:00<?, ?it/s]"
      ]
     },
     "metadata": {},
     "output_type": "display_data"
    },
    {
     "data": {
      "application/vnd.jupyter.widget-view+json": {
       "model_id": "f82547c09cd547dd9693796b14b9b4ed",
       "version_major": 2,
       "version_minor": 0
      },
      "text/plain": [
       "  0%|          | 0/126 [00:00<?, ?it/s]"
      ]
     },
     "metadata": {},
     "output_type": "display_data"
    },
    {
     "data": {
      "application/vnd.jupyter.widget-view+json": {
       "model_id": "5ce22c90fdc94e2e8a22664cf648815d",
       "version_major": 2,
       "version_minor": 0
      },
      "text/plain": [
       "  0%|          | 0/126 [00:00<?, ?it/s]"
      ]
     },
     "metadata": {},
     "output_type": "display_data"
    },
    {
     "data": {
      "application/vnd.jupyter.widget-view+json": {
       "model_id": "9742be6136c043daa12949dfce9991d2",
       "version_major": 2,
       "version_minor": 0
      },
      "text/plain": [
       "  0%|          | 0/126 [00:00<?, ?it/s]"
      ]
     },
     "metadata": {},
     "output_type": "display_data"
    },
    {
     "data": {
      "application/vnd.jupyter.widget-view+json": {
       "model_id": "e3af66bf7ed2492c9d40369c403278e1",
       "version_major": 2,
       "version_minor": 0
      },
      "text/plain": [
       "  0%|          | 0/126 [00:00<?, ?it/s]"
      ]
     },
     "metadata": {},
     "output_type": "display_data"
    },
    {
     "data": {
      "application/vnd.jupyter.widget-view+json": {
       "model_id": "f0c24f79ae40406da98f29bd15b009ed",
       "version_major": 2,
       "version_minor": 0
      },
      "text/plain": [
       "  0%|          | 0/126 [00:00<?, ?it/s]"
      ]
     },
     "metadata": {},
     "output_type": "display_data"
    },
    {
     "data": {
      "application/vnd.jupyter.widget-view+json": {
       "model_id": "00e8d2bf602345d89d06dfbe8ea354ab",
       "version_major": 2,
       "version_minor": 0
      },
      "text/plain": [
       "  0%|          | 0/126 [00:00<?, ?it/s]"
      ]
     },
     "metadata": {},
     "output_type": "display_data"
    },
    {
     "data": {
      "application/vnd.jupyter.widget-view+json": {
       "model_id": "b7f270874c4f4aae80824d5eca85c095",
       "version_major": 2,
       "version_minor": 0
      },
      "text/plain": [
       "  0%|          | 0/126 [00:00<?, ?it/s]"
      ]
     },
     "metadata": {},
     "output_type": "display_data"
    },
    {
     "data": {
      "application/vnd.jupyter.widget-view+json": {
       "model_id": "647a84f813d2453784f19044a9473f2b",
       "version_major": 2,
       "version_minor": 0
      },
      "text/plain": [
       "  0%|          | 0/126 [00:00<?, ?it/s]"
      ]
     },
     "metadata": {},
     "output_type": "display_data"
    },
    {
     "data": {
      "application/vnd.jupyter.widget-view+json": {
       "model_id": "79657758c6a746b0ab6a631f7f07ed2d",
       "version_major": 2,
       "version_minor": 0
      },
      "text/plain": [
       "  0%|          | 0/126 [00:00<?, ?it/s]"
      ]
     },
     "metadata": {},
     "output_type": "display_data"
    },
    {
     "data": {
      "application/vnd.jupyter.widget-view+json": {
       "model_id": "03d7620671d544df900173151b08ad69",
       "version_major": 2,
       "version_minor": 0
      },
      "text/plain": [
       "  0%|          | 0/126 [00:00<?, ?it/s]"
      ]
     },
     "metadata": {},
     "output_type": "display_data"
    },
    {
     "data": {
      "application/vnd.jupyter.widget-view+json": {
       "model_id": "f075996a34e7486b870bb6358bd41f19",
       "version_major": 2,
       "version_minor": 0
      },
      "text/plain": [
       "  0%|          | 0/126 [00:00<?, ?it/s]"
      ]
     },
     "metadata": {},
     "output_type": "display_data"
    },
    {
     "data": {
      "application/vnd.jupyter.widget-view+json": {
       "model_id": "944b5756cc6241899fd1ffcd33b28cc8",
       "version_major": 2,
       "version_minor": 0
      },
      "text/plain": [
       "  0%|          | 0/126 [00:00<?, ?it/s]"
      ]
     },
     "metadata": {},
     "output_type": "display_data"
    },
    {
     "name": "stderr",
     "output_type": "stream",
     "text": [
      "IOPub message rate exceeded.\n",
      "The notebook server will temporarily stop sending output\n",
      "to the client in order to avoid crashing it.\n",
      "To change this limit, set the config variable\n",
      "`--NotebookApp.iopub_msg_rate_limit`.\n",
      "\n",
      "Current values:\n",
      "NotebookApp.iopub_msg_rate_limit=1000.0 (msgs/sec)\n",
      "NotebookApp.rate_limit_window=3.0 (secs)\n",
      "\n"
     ]
    },
    {
     "data": {
      "application/vnd.jupyter.widget-view+json": {
       "model_id": "f1dd770a742c4ac5a40c21f18da1bd93",
       "version_major": 2,
       "version_minor": 0
      },
      "text/plain": [
       "  0%|          | 0/126 [00:00<?, ?it/s]"
      ]
     },
     "metadata": {},
     "output_type": "display_data"
    },
    {
     "data": {
      "application/vnd.jupyter.widget-view+json": {
       "model_id": "d49712e01902494aa19c6e96650f34c8",
       "version_major": 2,
       "version_minor": 0
      },
      "text/plain": [
       "  0%|          | 0/126 [00:00<?, ?it/s]"
      ]
     },
     "metadata": {},
     "output_type": "display_data"
    },
    {
     "data": {
      "application/vnd.jupyter.widget-view+json": {
       "model_id": "8678ffc9ba2d4e0684c1e432d739c08d",
       "version_major": 2,
       "version_minor": 0
      },
      "text/plain": [
       "  0%|          | 0/126 [00:00<?, ?it/s]"
      ]
     },
     "metadata": {},
     "output_type": "display_data"
    },
    {
     "data": {
      "application/vnd.jupyter.widget-view+json": {
       "model_id": "689df303914743609245278a7e767f10",
       "version_major": 2,
       "version_minor": 0
      },
      "text/plain": [
       "  0%|          | 0/126 [00:00<?, ?it/s]"
      ]
     },
     "metadata": {},
     "output_type": "display_data"
    },
    {
     "data": {
      "application/vnd.jupyter.widget-view+json": {
       "model_id": "ffedf65c9021400baeb4f706be919e1a",
       "version_major": 2,
       "version_minor": 0
      },
      "text/plain": [
       "  0%|          | 0/126 [00:00<?, ?it/s]"
      ]
     },
     "metadata": {},
     "output_type": "display_data"
    },
    {
     "data": {
      "application/vnd.jupyter.widget-view+json": {
       "model_id": "99b6d9da7a3c4ee5804fdc11d9802ad4",
       "version_major": 2,
       "version_minor": 0
      },
      "text/plain": [
       "  0%|          | 0/126 [00:00<?, ?it/s]"
      ]
     },
     "metadata": {},
     "output_type": "display_data"
    },
    {
     "data": {
      "application/vnd.jupyter.widget-view+json": {
       "model_id": "d7728bc289b24d578e142a2f964c2bac",
       "version_major": 2,
       "version_minor": 0
      },
      "text/plain": [
       "  0%|          | 0/126 [00:00<?, ?it/s]"
      ]
     },
     "metadata": {},
     "output_type": "display_data"
    },
    {
     "data": {
      "application/vnd.jupyter.widget-view+json": {
       "model_id": "96956cf02963406d98a96f1ea1b9ec10",
       "version_major": 2,
       "version_minor": 0
      },
      "text/plain": [
       "  0%|          | 0/126 [00:00<?, ?it/s]"
      ]
     },
     "metadata": {},
     "output_type": "display_data"
    },
    {
     "data": {
      "application/vnd.jupyter.widget-view+json": {
       "model_id": "e95ccd0c2c9f4a12a75274a8e084395c",
       "version_major": 2,
       "version_minor": 0
      },
      "text/plain": [
       "  0%|          | 0/126 [00:00<?, ?it/s]"
      ]
     },
     "metadata": {},
     "output_type": "display_data"
    },
    {
     "data": {
      "application/vnd.jupyter.widget-view+json": {
       "model_id": "01440678d0ef4f6281d2239c8d45f4e5",
       "version_major": 2,
       "version_minor": 0
      },
      "text/plain": [
       "  0%|          | 0/126 [00:00<?, ?it/s]"
      ]
     },
     "metadata": {},
     "output_type": "display_data"
    },
    {
     "data": {
      "application/vnd.jupyter.widget-view+json": {
       "model_id": "ed6d0e004a5448c1b8bb24951d0e65f1",
       "version_major": 2,
       "version_minor": 0
      },
      "text/plain": [
       "  0%|          | 0/126 [00:00<?, ?it/s]"
      ]
     },
     "metadata": {},
     "output_type": "display_data"
    },
    {
     "data": {
      "application/vnd.jupyter.widget-view+json": {
       "model_id": "7d4430b4c3444814870de02f0bb2811a",
       "version_major": 2,
       "version_minor": 0
      },
      "text/plain": [
       "  0%|          | 0/126 [00:00<?, ?it/s]"
      ]
     },
     "metadata": {},
     "output_type": "display_data"
    },
    {
     "data": {
      "application/vnd.jupyter.widget-view+json": {
       "model_id": "b132c487f215465b99b221bebe81c20f",
       "version_major": 2,
       "version_minor": 0
      },
      "text/plain": [
       "  0%|          | 0/126 [00:00<?, ?it/s]"
      ]
     },
     "metadata": {},
     "output_type": "display_data"
    },
    {
     "data": {
      "application/vnd.jupyter.widget-view+json": {
       "model_id": "475d56b610854c42aa7544f46a409d00",
       "version_major": 2,
       "version_minor": 0
      },
      "text/plain": [
       "  0%|          | 0/126 [00:00<?, ?it/s]"
      ]
     },
     "metadata": {},
     "output_type": "display_data"
    },
    {
     "data": {
      "application/vnd.jupyter.widget-view+json": {
       "model_id": "f718f7ce3fc5448b8d58af972f70b8dd",
       "version_major": 2,
       "version_minor": 0
      },
      "text/plain": [
       "  0%|          | 0/126 [00:00<?, ?it/s]"
      ]
     },
     "metadata": {},
     "output_type": "display_data"
    },
    {
     "data": {
      "application/vnd.jupyter.widget-view+json": {
       "model_id": "57ea5862148b4c59b955029c9dca6436",
       "version_major": 2,
       "version_minor": 0
      },
      "text/plain": [
       "  0%|          | 0/126 [00:00<?, ?it/s]"
      ]
     },
     "metadata": {},
     "output_type": "display_data"
    },
    {
     "data": {
      "application/vnd.jupyter.widget-view+json": {
       "model_id": "2cdfa628487b489399ce5384bd664707",
       "version_major": 2,
       "version_minor": 0
      },
      "text/plain": [
       "  0%|          | 0/126 [00:00<?, ?it/s]"
      ]
     },
     "metadata": {},
     "output_type": "display_data"
    },
    {
     "data": {
      "application/vnd.jupyter.widget-view+json": {
       "model_id": "ac95046654b84ac4bf99765ab41d27b2",
       "version_major": 2,
       "version_minor": 0
      },
      "text/plain": [
       "  0%|          | 0/126 [00:00<?, ?it/s]"
      ]
     },
     "metadata": {},
     "output_type": "display_data"
    },
    {
     "data": {
      "application/vnd.jupyter.widget-view+json": {
       "model_id": "14031750d00c42eeb6045e48bd4311c6",
       "version_major": 2,
       "version_minor": 0
      },
      "text/plain": [
       "  0%|          | 0/126 [00:00<?, ?it/s]"
      ]
     },
     "metadata": {},
     "output_type": "display_data"
    },
    {
     "data": {
      "application/vnd.jupyter.widget-view+json": {
       "model_id": "dc82b9df3bce4027ac8d70a5bbd21c10",
       "version_major": 2,
       "version_minor": 0
      },
      "text/plain": [
       "  0%|          | 0/126 [00:00<?, ?it/s]"
      ]
     },
     "metadata": {},
     "output_type": "display_data"
    },
    {
     "data": {
      "application/vnd.jupyter.widget-view+json": {
       "model_id": "ec87f228f67d4c0e809f08a6ab450869",
       "version_major": 2,
       "version_minor": 0
      },
      "text/plain": [
       "  0%|          | 0/126 [00:00<?, ?it/s]"
      ]
     },
     "metadata": {},
     "output_type": "display_data"
    },
    {
     "data": {
      "application/vnd.jupyter.widget-view+json": {
       "model_id": "5851fcbe33a2488e83ba1e719155cc57",
       "version_major": 2,
       "version_minor": 0
      },
      "text/plain": [
       "  0%|          | 0/126 [00:00<?, ?it/s]"
      ]
     },
     "metadata": {},
     "output_type": "display_data"
    },
    {
     "data": {
      "application/vnd.jupyter.widget-view+json": {
       "model_id": "e21ce19664a14fc0be912952962c9dc0",
       "version_major": 2,
       "version_minor": 0
      },
      "text/plain": [
       "  0%|          | 0/126 [00:00<?, ?it/s]"
      ]
     },
     "metadata": {},
     "output_type": "display_data"
    },
    {
     "data": {
      "application/vnd.jupyter.widget-view+json": {
       "model_id": "2205f74929474d0d921c0324fb0eb157",
       "version_major": 2,
       "version_minor": 0
      },
      "text/plain": [
       "  0%|          | 0/126 [00:00<?, ?it/s]"
      ]
     },
     "metadata": {},
     "output_type": "display_data"
    },
    {
     "data": {
      "application/vnd.jupyter.widget-view+json": {
       "model_id": "44ee183f52364fb98e1d9be4b3755edb",
       "version_major": 2,
       "version_minor": 0
      },
      "text/plain": [
       "  0%|          | 0/126 [00:00<?, ?it/s]"
      ]
     },
     "metadata": {},
     "output_type": "display_data"
    },
    {
     "data": {
      "application/vnd.jupyter.widget-view+json": {
       "model_id": "fb17161ebad84f8fa5cb57cdce82242d",
       "version_major": 2,
       "version_minor": 0
      },
      "text/plain": [
       "  0%|          | 0/126 [00:00<?, ?it/s]"
      ]
     },
     "metadata": {},
     "output_type": "display_data"
    },
    {
     "data": {
      "application/vnd.jupyter.widget-view+json": {
       "model_id": "a950b1e5b1c14a71bc11355b1b7a8893",
       "version_major": 2,
       "version_minor": 0
      },
      "text/plain": [
       "  0%|          | 0/126 [00:00<?, ?it/s]"
      ]
     },
     "metadata": {},
     "output_type": "display_data"
    },
    {
     "data": {
      "application/vnd.jupyter.widget-view+json": {
       "model_id": "cc303fee2279431fb2335260ed924747",
       "version_major": 2,
       "version_minor": 0
      },
      "text/plain": [
       "  0%|          | 0/126 [00:00<?, ?it/s]"
      ]
     },
     "metadata": {},
     "output_type": "display_data"
    },
    {
     "data": {
      "application/vnd.jupyter.widget-view+json": {
       "model_id": "47472e1af5ff4aafb9c89c70393e2402",
       "version_major": 2,
       "version_minor": 0
      },
      "text/plain": [
       "  0%|          | 0/126 [00:00<?, ?it/s]"
      ]
     },
     "metadata": {},
     "output_type": "display_data"
    },
    {
     "data": {
      "application/vnd.jupyter.widget-view+json": {
       "model_id": "c7b2e2db9b0b4720bc50dbda8b869cd0",
       "version_major": 2,
       "version_minor": 0
      },
      "text/plain": [
       "  0%|          | 0/126 [00:00<?, ?it/s]"
      ]
     },
     "metadata": {},
     "output_type": "display_data"
    },
    {
     "data": {
      "application/vnd.jupyter.widget-view+json": {
       "model_id": "942a80755b434e74bf63960a154eba0a",
       "version_major": 2,
       "version_minor": 0
      },
      "text/plain": [
       "  0%|          | 0/126 [00:00<?, ?it/s]"
      ]
     },
     "metadata": {},
     "output_type": "display_data"
    },
    {
     "data": {
      "application/vnd.jupyter.widget-view+json": {
       "model_id": "5d9c6a9eb27c450ba73e24041a51c677",
       "version_major": 2,
       "version_minor": 0
      },
      "text/plain": [
       "  0%|          | 0/126 [00:00<?, ?it/s]"
      ]
     },
     "metadata": {},
     "output_type": "display_data"
    },
    {
     "data": {
      "application/vnd.jupyter.widget-view+json": {
       "model_id": "78bc8e427f084d3bb8d05aaddfbd26c8",
       "version_major": 2,
       "version_minor": 0
      },
      "text/plain": [
       "  0%|          | 0/126 [00:00<?, ?it/s]"
      ]
     },
     "metadata": {},
     "output_type": "display_data"
    },
    {
     "data": {
      "application/vnd.jupyter.widget-view+json": {
       "model_id": "e897c72025a54f0ca4daa50a42cb22d0",
       "version_major": 2,
       "version_minor": 0
      },
      "text/plain": [
       "  0%|          | 0/126 [00:00<?, ?it/s]"
      ]
     },
     "metadata": {},
     "output_type": "display_data"
    },
    {
     "data": {
      "application/vnd.jupyter.widget-view+json": {
       "model_id": "dd78abb86e724d6dbbd2e8223cd7f954",
       "version_major": 2,
       "version_minor": 0
      },
      "text/plain": [
       "  0%|          | 0/126 [00:00<?, ?it/s]"
      ]
     },
     "metadata": {},
     "output_type": "display_data"
    },
    {
     "data": {
      "application/vnd.jupyter.widget-view+json": {
       "model_id": "7b32c69a86414cd7b4608216bbd84af8",
       "version_major": 2,
       "version_minor": 0
      },
      "text/plain": [
       "  0%|          | 0/126 [00:00<?, ?it/s]"
      ]
     },
     "metadata": {},
     "output_type": "display_data"
    },
    {
     "data": {
      "application/vnd.jupyter.widget-view+json": {
       "model_id": "b57bfe7ce6244869bf207c30f7cc96a4",
       "version_major": 2,
       "version_minor": 0
      },
      "text/plain": [
       "  0%|          | 0/126 [00:00<?, ?it/s]"
      ]
     },
     "metadata": {},
     "output_type": "display_data"
    },
    {
     "data": {
      "application/vnd.jupyter.widget-view+json": {
       "model_id": "0135f971d02d403cbe3604b32c6f39cf",
       "version_major": 2,
       "version_minor": 0
      },
      "text/plain": [
       "  0%|          | 0/126 [00:00<?, ?it/s]"
      ]
     },
     "metadata": {},
     "output_type": "display_data"
    },
    {
     "data": {
      "application/vnd.jupyter.widget-view+json": {
       "model_id": "3250a2c0d33145be97d92540bab65ee0",
       "version_major": 2,
       "version_minor": 0
      },
      "text/plain": [
       "  0%|          | 0/126 [00:00<?, ?it/s]"
      ]
     },
     "metadata": {},
     "output_type": "display_data"
    },
    {
     "data": {
      "application/vnd.jupyter.widget-view+json": {
       "model_id": "cb95ac299d94484d9ad6f13bed235a94",
       "version_major": 2,
       "version_minor": 0
      },
      "text/plain": [
       "  0%|          | 0/126 [00:00<?, ?it/s]"
      ]
     },
     "metadata": {},
     "output_type": "display_data"
    },
    {
     "data": {
      "application/vnd.jupyter.widget-view+json": {
       "model_id": "f47fe21319aa4d89be5db1718b0ca55c",
       "version_major": 2,
       "version_minor": 0
      },
      "text/plain": [
       "  0%|          | 0/126 [00:00<?, ?it/s]"
      ]
     },
     "metadata": {},
     "output_type": "display_data"
    },
    {
     "data": {
      "application/vnd.jupyter.widget-view+json": {
       "model_id": "e2c4366970ea4ff985da603a8fd019a7",
       "version_major": 2,
       "version_minor": 0
      },
      "text/plain": [
       "  0%|          | 0/126 [00:00<?, ?it/s]"
      ]
     },
     "metadata": {},
     "output_type": "display_data"
    },
    {
     "data": {
      "application/vnd.jupyter.widget-view+json": {
       "model_id": "f5ae6630467f4307baae9537022a6006",
       "version_major": 2,
       "version_minor": 0
      },
      "text/plain": [
       "  0%|          | 0/126 [00:00<?, ?it/s]"
      ]
     },
     "metadata": {},
     "output_type": "display_data"
    },
    {
     "data": {
      "application/vnd.jupyter.widget-view+json": {
       "model_id": "5f017724792c4df68dfe46455c14f6be",
       "version_major": 2,
       "version_minor": 0
      },
      "text/plain": [
       "  0%|          | 0/126 [00:00<?, ?it/s]"
      ]
     },
     "metadata": {},
     "output_type": "display_data"
    },
    {
     "data": {
      "application/vnd.jupyter.widget-view+json": {
       "model_id": "515bf1adbba6409187f220239ae73a33",
       "version_major": 2,
       "version_minor": 0
      },
      "text/plain": [
       "  0%|          | 0/126 [00:00<?, ?it/s]"
      ]
     },
     "metadata": {},
     "output_type": "display_data"
    },
    {
     "data": {
      "application/vnd.jupyter.widget-view+json": {
       "model_id": "7a60b48684c54d4fbb3a8a5bdfe52ef2",
       "version_major": 2,
       "version_minor": 0
      },
      "text/plain": [
       "  0%|          | 0/126 [00:00<?, ?it/s]"
      ]
     },
     "metadata": {},
     "output_type": "display_data"
    },
    {
     "data": {
      "application/vnd.jupyter.widget-view+json": {
       "model_id": "03a2c6c16c5e4a87a5f1826e386c8d67",
       "version_major": 2,
       "version_minor": 0
      },
      "text/plain": [
       "  0%|          | 0/126 [00:00<?, ?it/s]"
      ]
     },
     "metadata": {},
     "output_type": "display_data"
    },
    {
     "data": {
      "application/vnd.jupyter.widget-view+json": {
       "model_id": "e5c8405e0524462a82d22880ba8f4002",
       "version_major": 2,
       "version_minor": 0
      },
      "text/plain": [
       "  0%|          | 0/126 [00:00<?, ?it/s]"
      ]
     },
     "metadata": {},
     "output_type": "display_data"
    },
    {
     "data": {
      "application/vnd.jupyter.widget-view+json": {
       "model_id": "30b9668bc24f4bbc9094924e8931f04f",
       "version_major": 2,
       "version_minor": 0
      },
      "text/plain": [
       "  0%|          | 0/126 [00:00<?, ?it/s]"
      ]
     },
     "metadata": {},
     "output_type": "display_data"
    },
    {
     "data": {
      "application/vnd.jupyter.widget-view+json": {
       "model_id": "7545d468e0a74c0389b27b34848cb6d1",
       "version_major": 2,
       "version_minor": 0
      },
      "text/plain": [
       "  0%|          | 0/126 [00:00<?, ?it/s]"
      ]
     },
     "metadata": {},
     "output_type": "display_data"
    },
    {
     "data": {
      "application/vnd.jupyter.widget-view+json": {
       "model_id": "9daa806c57a8413aa80098fe7f811e34",
       "version_major": 2,
       "version_minor": 0
      },
      "text/plain": [
       "  0%|          | 0/126 [00:00<?, ?it/s]"
      ]
     },
     "metadata": {},
     "output_type": "display_data"
    },
    {
     "data": {
      "application/vnd.jupyter.widget-view+json": {
       "model_id": "cdb54af86f0a405bb8641242f9d898b9",
       "version_major": 2,
       "version_minor": 0
      },
      "text/plain": [
       "  0%|          | 0/126 [00:00<?, ?it/s]"
      ]
     },
     "metadata": {},
     "output_type": "display_data"
    },
    {
     "data": {
      "application/vnd.jupyter.widget-view+json": {
       "model_id": "f873625ca90640b5b51bfa835b899854",
       "version_major": 2,
       "version_minor": 0
      },
      "text/plain": [
       "  0%|          | 0/126 [00:00<?, ?it/s]"
      ]
     },
     "metadata": {},
     "output_type": "display_data"
    },
    {
     "data": {
      "application/vnd.jupyter.widget-view+json": {
       "model_id": "66ada3e94df4424aaba0a6328bf368f3",
       "version_major": 2,
       "version_minor": 0
      },
      "text/plain": [
       "  0%|          | 0/126 [00:00<?, ?it/s]"
      ]
     },
     "metadata": {},
     "output_type": "display_data"
    },
    {
     "data": {
      "application/vnd.jupyter.widget-view+json": {
       "model_id": "286405ecd7254994ab401304e68ccd07",
       "version_major": 2,
       "version_minor": 0
      },
      "text/plain": [
       "  0%|          | 0/126 [00:00<?, ?it/s]"
      ]
     },
     "metadata": {},
     "output_type": "display_data"
    },
    {
     "data": {
      "application/vnd.jupyter.widget-view+json": {
       "model_id": "bc8309039b4e4e68af69e5891b944d15",
       "version_major": 2,
       "version_minor": 0
      },
      "text/plain": [
       "  0%|          | 0/126 [00:00<?, ?it/s]"
      ]
     },
     "metadata": {},
     "output_type": "display_data"
    },
    {
     "data": {
      "application/vnd.jupyter.widget-view+json": {
       "model_id": "eb6498cc0dac40489d5bb63e886e941e",
       "version_major": 2,
       "version_minor": 0
      },
      "text/plain": [
       "  0%|          | 0/126 [00:00<?, ?it/s]"
      ]
     },
     "metadata": {},
     "output_type": "display_data"
    },
    {
     "data": {
      "application/vnd.jupyter.widget-view+json": {
       "model_id": "ec08fe0298514e389975f4f18f66d247",
       "version_major": 2,
       "version_minor": 0
      },
      "text/plain": [
       "  0%|          | 0/126 [00:00<?, ?it/s]"
      ]
     },
     "metadata": {},
     "output_type": "display_data"
    },
    {
     "data": {
      "application/vnd.jupyter.widget-view+json": {
       "model_id": "0abe81fc019f45fa98fe60962ccf7567",
       "version_major": 2,
       "version_minor": 0
      },
      "text/plain": [
       "  0%|          | 0/126 [00:00<?, ?it/s]"
      ]
     },
     "metadata": {},
     "output_type": "display_data"
    },
    {
     "data": {
      "application/vnd.jupyter.widget-view+json": {
       "model_id": "4c39706c85014bc3a20c602a975dd962",
       "version_major": 2,
       "version_minor": 0
      },
      "text/plain": [
       "  0%|          | 0/126 [00:00<?, ?it/s]"
      ]
     },
     "metadata": {},
     "output_type": "display_data"
    },
    {
     "data": {
      "application/vnd.jupyter.widget-view+json": {
       "model_id": "0dc689b0654a4a55b0dddbd039516481",
       "version_major": 2,
       "version_minor": 0
      },
      "text/plain": [
       "  0%|          | 0/126 [00:00<?, ?it/s]"
      ]
     },
     "metadata": {},
     "output_type": "display_data"
    },
    {
     "data": {
      "application/vnd.jupyter.widget-view+json": {
       "model_id": "26cd990ecdc642acab83b6c211cb5a60",
       "version_major": 2,
       "version_minor": 0
      },
      "text/plain": [
       "  0%|          | 0/126 [00:00<?, ?it/s]"
      ]
     },
     "metadata": {},
     "output_type": "display_data"
    },
    {
     "data": {
      "application/vnd.jupyter.widget-view+json": {
       "model_id": "0b6b62dc380f408fb3a3498e49198026",
       "version_major": 2,
       "version_minor": 0
      },
      "text/plain": [
       "  0%|          | 0/126 [00:00<?, ?it/s]"
      ]
     },
     "metadata": {},
     "output_type": "display_data"
    },
    {
     "data": {
      "application/vnd.jupyter.widget-view+json": {
       "model_id": "1715153285284f8288e1eefd2e4b5272",
       "version_major": 2,
       "version_minor": 0
      },
      "text/plain": [
       "  0%|          | 0/126 [00:00<?, ?it/s]"
      ]
     },
     "metadata": {},
     "output_type": "display_data"
    },
    {
     "data": {
      "application/vnd.jupyter.widget-view+json": {
       "model_id": "a88556101a7e4d1b86e35b98d2b305fe",
       "version_major": 2,
       "version_minor": 0
      },
      "text/plain": [
       "  0%|          | 0/126 [00:00<?, ?it/s]"
      ]
     },
     "metadata": {},
     "output_type": "display_data"
    },
    {
     "data": {
      "application/vnd.jupyter.widget-view+json": {
       "model_id": "cf2678ce774148d2b0938246246d64aa",
       "version_major": 2,
       "version_minor": 0
      },
      "text/plain": [
       "  0%|          | 0/126 [00:00<?, ?it/s]"
      ]
     },
     "metadata": {},
     "output_type": "display_data"
    },
    {
     "data": {
      "application/vnd.jupyter.widget-view+json": {
       "model_id": "693e700ed9fa4c8f83ca0357179112eb",
       "version_major": 2,
       "version_minor": 0
      },
      "text/plain": [
       "  0%|          | 0/126 [00:00<?, ?it/s]"
      ]
     },
     "metadata": {},
     "output_type": "display_data"
    },
    {
     "data": {
      "application/vnd.jupyter.widget-view+json": {
       "model_id": "0cd3b533548540b7b870f5dd44d86d22",
       "version_major": 2,
       "version_minor": 0
      },
      "text/plain": [
       "  0%|          | 0/126 [00:00<?, ?it/s]"
      ]
     },
     "metadata": {},
     "output_type": "display_data"
    },
    {
     "data": {
      "application/vnd.jupyter.widget-view+json": {
       "model_id": "72c88a29f6634d30a9c716dc0ae0b744",
       "version_major": 2,
       "version_minor": 0
      },
      "text/plain": [
       "  0%|          | 0/126 [00:00<?, ?it/s]"
      ]
     },
     "metadata": {},
     "output_type": "display_data"
    },
    {
     "data": {
      "application/vnd.jupyter.widget-view+json": {
       "model_id": "2d3b4bb2ae604963abf47546662b370d",
       "version_major": 2,
       "version_minor": 0
      },
      "text/plain": [
       "  0%|          | 0/126 [00:00<?, ?it/s]"
      ]
     },
     "metadata": {},
     "output_type": "display_data"
    },
    {
     "data": {
      "application/vnd.jupyter.widget-view+json": {
       "model_id": "b9f7fad1d69a485988d3dc59443eea8b",
       "version_major": 2,
       "version_minor": 0
      },
      "text/plain": [
       "  0%|          | 0/126 [00:00<?, ?it/s]"
      ]
     },
     "metadata": {},
     "output_type": "display_data"
    },
    {
     "data": {
      "application/vnd.jupyter.widget-view+json": {
       "model_id": "8bd86837edc74e0db85439b137aab0ea",
       "version_major": 2,
       "version_minor": 0
      },
      "text/plain": [
       "  0%|          | 0/126 [00:00<?, ?it/s]"
      ]
     },
     "metadata": {},
     "output_type": "display_data"
    },
    {
     "data": {
      "application/vnd.jupyter.widget-view+json": {
       "model_id": "11f7b7f09cd74f4ba7a1991f8cad554f",
       "version_major": 2,
       "version_minor": 0
      },
      "text/plain": [
       "  0%|          | 0/126 [00:00<?, ?it/s]"
      ]
     },
     "metadata": {},
     "output_type": "display_data"
    },
    {
     "data": {
      "application/vnd.jupyter.widget-view+json": {
       "model_id": "859154b2823d4f7694c66aaf2283b2b5",
       "version_major": 2,
       "version_minor": 0
      },
      "text/plain": [
       "  0%|          | 0/126 [00:00<?, ?it/s]"
      ]
     },
     "metadata": {},
     "output_type": "display_data"
    },
    {
     "data": {
      "application/vnd.jupyter.widget-view+json": {
       "model_id": "903ecde016dc4a68b9cc84c2d5523786",
       "version_major": 2,
       "version_minor": 0
      },
      "text/plain": [
       "  0%|          | 0/126 [00:00<?, ?it/s]"
      ]
     },
     "metadata": {},
     "output_type": "display_data"
    },
    {
     "data": {
      "application/vnd.jupyter.widget-view+json": {
       "model_id": "dc61c63617094f7980453b7ef86044c1",
       "version_major": 2,
       "version_minor": 0
      },
      "text/plain": [
       "  0%|          | 0/126 [00:00<?, ?it/s]"
      ]
     },
     "metadata": {},
     "output_type": "display_data"
    },
    {
     "data": {
      "application/vnd.jupyter.widget-view+json": {
       "model_id": "105964d9747a4ae5b14a64059dfddf99",
       "version_major": 2,
       "version_minor": 0
      },
      "text/plain": [
       "  0%|          | 0/126 [00:00<?, ?it/s]"
      ]
     },
     "metadata": {},
     "output_type": "display_data"
    },
    {
     "data": {
      "application/vnd.jupyter.widget-view+json": {
       "model_id": "aa3abfdf2370470faea480de8338bf19",
       "version_major": 2,
       "version_minor": 0
      },
      "text/plain": [
       "  0%|          | 0/126 [00:00<?, ?it/s]"
      ]
     },
     "metadata": {},
     "output_type": "display_data"
    },
    {
     "data": {
      "application/vnd.jupyter.widget-view+json": {
       "model_id": "818b23c26f42423f8e7ae199d550d052",
       "version_major": 2,
       "version_minor": 0
      },
      "text/plain": [
       "  0%|          | 0/126 [00:00<?, ?it/s]"
      ]
     },
     "metadata": {},
     "output_type": "display_data"
    },
    {
     "data": {
      "application/vnd.jupyter.widget-view+json": {
       "model_id": "5f9119bce840424f991e0a7bea94dce5",
       "version_major": 2,
       "version_minor": 0
      },
      "text/plain": [
       "  0%|          | 0/126 [00:00<?, ?it/s]"
      ]
     },
     "metadata": {},
     "output_type": "display_data"
    },
    {
     "data": {
      "application/vnd.jupyter.widget-view+json": {
       "model_id": "2441c6a85c5a4ed4a90fb97da79d7b87",
       "version_major": 2,
       "version_minor": 0
      },
      "text/plain": [
       "  0%|          | 0/126 [00:00<?, ?it/s]"
      ]
     },
     "metadata": {},
     "output_type": "display_data"
    },
    {
     "data": {
      "application/vnd.jupyter.widget-view+json": {
       "model_id": "c173431b7dd24f4986681a8097cf07d7",
       "version_major": 2,
       "version_minor": 0
      },
      "text/plain": [
       "  0%|          | 0/126 [00:00<?, ?it/s]"
      ]
     },
     "metadata": {},
     "output_type": "display_data"
    },
    {
     "data": {
      "application/vnd.jupyter.widget-view+json": {
       "model_id": "31727213fcf4496293cd1c28d29aa7e0",
       "version_major": 2,
       "version_minor": 0
      },
      "text/plain": [
       "  0%|          | 0/126 [00:00<?, ?it/s]"
      ]
     },
     "metadata": {},
     "output_type": "display_data"
    },
    {
     "data": {
      "application/vnd.jupyter.widget-view+json": {
       "model_id": "00ee8baf9449436a814d60a99b8526fc",
       "version_major": 2,
       "version_minor": 0
      },
      "text/plain": [
       "  0%|          | 0/126 [00:00<?, ?it/s]"
      ]
     },
     "metadata": {},
     "output_type": "display_data"
    },
    {
     "data": {
      "application/vnd.jupyter.widget-view+json": {
       "model_id": "2c4d75fa29244b038b6026d77b1eaef9",
       "version_major": 2,
       "version_minor": 0
      },
      "text/plain": [
       "  0%|          | 0/126 [00:00<?, ?it/s]"
      ]
     },
     "metadata": {},
     "output_type": "display_data"
    },
    {
     "data": {
      "application/vnd.jupyter.widget-view+json": {
       "model_id": "713f01ca858a4db08007157be82154e0",
       "version_major": 2,
       "version_minor": 0
      },
      "text/plain": [
       "  0%|          | 0/126 [00:00<?, ?it/s]"
      ]
     },
     "metadata": {},
     "output_type": "display_data"
    },
    {
     "data": {
      "application/vnd.jupyter.widget-view+json": {
       "model_id": "379fc430a736465e864f059f3a9ed1a5",
       "version_major": 2,
       "version_minor": 0
      },
      "text/plain": [
       "  0%|          | 0/126 [00:00<?, ?it/s]"
      ]
     },
     "metadata": {},
     "output_type": "display_data"
    },
    {
     "data": {
      "application/vnd.jupyter.widget-view+json": {
       "model_id": "207bd5f11a064e71bbdf976bf26cffa0",
       "version_major": 2,
       "version_minor": 0
      },
      "text/plain": [
       "  0%|          | 0/126 [00:00<?, ?it/s]"
      ]
     },
     "metadata": {},
     "output_type": "display_data"
    },
    {
     "data": {
      "application/vnd.jupyter.widget-view+json": {
       "model_id": "5886117a506e49309d93037092740b3b",
       "version_major": 2,
       "version_minor": 0
      },
      "text/plain": [
       "  0%|          | 0/126 [00:00<?, ?it/s]"
      ]
     },
     "metadata": {},
     "output_type": "display_data"
    },
    {
     "data": {
      "application/vnd.jupyter.widget-view+json": {
       "model_id": "3e610d1adbd644eda39c65f2a77f890e",
       "version_major": 2,
       "version_minor": 0
      },
      "text/plain": [
       "  0%|          | 0/126 [00:00<?, ?it/s]"
      ]
     },
     "metadata": {},
     "output_type": "display_data"
    },
    {
     "data": {
      "application/vnd.jupyter.widget-view+json": {
       "model_id": "fe55eec6739f489e9c08e1634a5a1dff",
       "version_major": 2,
       "version_minor": 0
      },
      "text/plain": [
       "  0%|          | 0/126 [00:00<?, ?it/s]"
      ]
     },
     "metadata": {},
     "output_type": "display_data"
    },
    {
     "data": {
      "application/vnd.jupyter.widget-view+json": {
       "model_id": "f51e6dc842a8415e93ab0d7c07fb0013",
       "version_major": 2,
       "version_minor": 0
      },
      "text/plain": [
       "  0%|          | 0/126 [00:00<?, ?it/s]"
      ]
     },
     "metadata": {},
     "output_type": "display_data"
    },
    {
     "data": {
      "application/vnd.jupyter.widget-view+json": {
       "model_id": "9c9ca297af394cb1ba30e68605e0ce6a",
       "version_major": 2,
       "version_minor": 0
      },
      "text/plain": [
       "  0%|          | 0/126 [00:00<?, ?it/s]"
      ]
     },
     "metadata": {},
     "output_type": "display_data"
    },
    {
     "data": {
      "application/vnd.jupyter.widget-view+json": {
       "model_id": "a0cac422f22e4ab089487a326df796e2",
       "version_major": 2,
       "version_minor": 0
      },
      "text/plain": [
       "  0%|          | 0/126 [00:00<?, ?it/s]"
      ]
     },
     "metadata": {},
     "output_type": "display_data"
    },
    {
     "data": {
      "application/vnd.jupyter.widget-view+json": {
       "model_id": "7732f8d734e04ad885dc90fcf50b797c",
       "version_major": 2,
       "version_minor": 0
      },
      "text/plain": [
       "  0%|          | 0/126 [00:00<?, ?it/s]"
      ]
     },
     "metadata": {},
     "output_type": "display_data"
    },
    {
     "data": {
      "application/vnd.jupyter.widget-view+json": {
       "model_id": "bdbca1c55f9b4f678e048153b4f987b2",
       "version_major": 2,
       "version_minor": 0
      },
      "text/plain": [
       "  0%|          | 0/126 [00:00<?, ?it/s]"
      ]
     },
     "metadata": {},
     "output_type": "display_data"
    },
    {
     "data": {
      "application/vnd.jupyter.widget-view+json": {
       "model_id": "6a3f48a4a668473dba50b25d3874d9fa",
       "version_major": 2,
       "version_minor": 0
      },
      "text/plain": [
       "  0%|          | 0/126 [00:00<?, ?it/s]"
      ]
     },
     "metadata": {},
     "output_type": "display_data"
    },
    {
     "data": {
      "application/vnd.jupyter.widget-view+json": {
       "model_id": "68456e76e2084456a393b6eeb9fb8b5d",
       "version_major": 2,
       "version_minor": 0
      },
      "text/plain": [
       "  0%|          | 0/126 [00:00<?, ?it/s]"
      ]
     },
     "metadata": {},
     "output_type": "display_data"
    },
    {
     "data": {
      "application/vnd.jupyter.widget-view+json": {
       "model_id": "32d87891068c427086b57a73d1f476e1",
       "version_major": 2,
       "version_minor": 0
      },
      "text/plain": [
       "  0%|          | 0/126 [00:00<?, ?it/s]"
      ]
     },
     "metadata": {},
     "output_type": "display_data"
    },
    {
     "data": {
      "application/vnd.jupyter.widget-view+json": {
       "model_id": "267576543aba49a7ad111ce602df2132",
       "version_major": 2,
       "version_minor": 0
      },
      "text/plain": [
       "  0%|          | 0/126 [00:00<?, ?it/s]"
      ]
     },
     "metadata": {},
     "output_type": "display_data"
    },
    {
     "data": {
      "application/vnd.jupyter.widget-view+json": {
       "model_id": "da2702dd54a94e95b40163a7f192bcea",
       "version_major": 2,
       "version_minor": 0
      },
      "text/plain": [
       "  0%|          | 0/126 [00:00<?, ?it/s]"
      ]
     },
     "metadata": {},
     "output_type": "display_data"
    },
    {
     "data": {
      "application/vnd.jupyter.widget-view+json": {
       "model_id": "3f71c2219f204be28c9bc80a35b0346e",
       "version_major": 2,
       "version_minor": 0
      },
      "text/plain": [
       "  0%|          | 0/126 [00:00<?, ?it/s]"
      ]
     },
     "metadata": {},
     "output_type": "display_data"
    },
    {
     "data": {
      "application/vnd.jupyter.widget-view+json": {
       "model_id": "6a103d2e6d154a20961907a7bcf3a71d",
       "version_major": 2,
       "version_minor": 0
      },
      "text/plain": [
       "  0%|          | 0/126 [00:00<?, ?it/s]"
      ]
     },
     "metadata": {},
     "output_type": "display_data"
    },
    {
     "data": {
      "application/vnd.jupyter.widget-view+json": {
       "model_id": "254e15919a4842449a03666fa2d5cd9e",
       "version_major": 2,
       "version_minor": 0
      },
      "text/plain": [
       "  0%|          | 0/126 [00:00<?, ?it/s]"
      ]
     },
     "metadata": {},
     "output_type": "display_data"
    },
    {
     "data": {
      "application/vnd.jupyter.widget-view+json": {
       "model_id": "cc15019183ed4e49b35c0834275c4fe1",
       "version_major": 2,
       "version_minor": 0
      },
      "text/plain": [
       "  0%|          | 0/126 [00:00<?, ?it/s]"
      ]
     },
     "metadata": {},
     "output_type": "display_data"
    },
    {
     "data": {
      "application/vnd.jupyter.widget-view+json": {
       "model_id": "cda5ba7976fb4d0bb615e5bad2a447e5",
       "version_major": 2,
       "version_minor": 0
      },
      "text/plain": [
       "  0%|          | 0/126 [00:00<?, ?it/s]"
      ]
     },
     "metadata": {},
     "output_type": "display_data"
    },
    {
     "data": {
      "application/vnd.jupyter.widget-view+json": {
       "model_id": "6b4674def08f40e7ab42323e2dee78fb",
       "version_major": 2,
       "version_minor": 0
      },
      "text/plain": [
       "  0%|          | 0/126 [00:00<?, ?it/s]"
      ]
     },
     "metadata": {},
     "output_type": "display_data"
    },
    {
     "data": {
      "application/vnd.jupyter.widget-view+json": {
       "model_id": "8e5e1af9b0614e1abd21b3d7d91e1242",
       "version_major": 2,
       "version_minor": 0
      },
      "text/plain": [
       "  0%|          | 0/126 [00:00<?, ?it/s]"
      ]
     },
     "metadata": {},
     "output_type": "display_data"
    },
    {
     "data": {
      "application/vnd.jupyter.widget-view+json": {
       "model_id": "616eab9310f74e4b849369e47d1e2d40",
       "version_major": 2,
       "version_minor": 0
      },
      "text/plain": [
       "  0%|          | 0/126 [00:00<?, ?it/s]"
      ]
     },
     "metadata": {},
     "output_type": "display_data"
    },
    {
     "data": {
      "application/vnd.jupyter.widget-view+json": {
       "model_id": "530f2e044599413f95da8db8760ad11b",
       "version_major": 2,
       "version_minor": 0
      },
      "text/plain": [
       "  0%|          | 0/126 [00:00<?, ?it/s]"
      ]
     },
     "metadata": {},
     "output_type": "display_data"
    },
    {
     "data": {
      "application/vnd.jupyter.widget-view+json": {
       "model_id": "3ed6a2deaa6f42008f0ff21fd7228511",
       "version_major": 2,
       "version_minor": 0
      },
      "text/plain": [
       "  0%|          | 0/126 [00:00<?, ?it/s]"
      ]
     },
     "metadata": {},
     "output_type": "display_data"
    },
    {
     "data": {
      "application/vnd.jupyter.widget-view+json": {
       "model_id": "1735770f65bd429e917e419ca39896d0",
       "version_major": 2,
       "version_minor": 0
      },
      "text/plain": [
       "  0%|          | 0/126 [00:00<?, ?it/s]"
      ]
     },
     "metadata": {},
     "output_type": "display_data"
    },
    {
     "data": {
      "application/vnd.jupyter.widget-view+json": {
       "model_id": "8e85ccc40266425baf45bf2cdacff3ea",
       "version_major": 2,
       "version_minor": 0
      },
      "text/plain": [
       "  0%|          | 0/126 [00:00<?, ?it/s]"
      ]
     },
     "metadata": {},
     "output_type": "display_data"
    },
    {
     "data": {
      "application/vnd.jupyter.widget-view+json": {
       "model_id": "2f07c85e28f643aa8b98d7e36fa5b2e7",
       "version_major": 2,
       "version_minor": 0
      },
      "text/plain": [
       "  0%|          | 0/126 [00:00<?, ?it/s]"
      ]
     },
     "metadata": {},
     "output_type": "display_data"
    },
    {
     "data": {
      "application/vnd.jupyter.widget-view+json": {
       "model_id": "d87919155ec04f19b15af272643aa3bb",
       "version_major": 2,
       "version_minor": 0
      },
      "text/plain": [
       "  0%|          | 0/126 [00:00<?, ?it/s]"
      ]
     },
     "metadata": {},
     "output_type": "display_data"
    },
    {
     "data": {
      "application/vnd.jupyter.widget-view+json": {
       "model_id": "ea699457157f46c0ae71c91467fba20e",
       "version_major": 2,
       "version_minor": 0
      },
      "text/plain": [
       "  0%|          | 0/126 [00:00<?, ?it/s]"
      ]
     },
     "metadata": {},
     "output_type": "display_data"
    },
    {
     "data": {
      "application/vnd.jupyter.widget-view+json": {
       "model_id": "0a17bc96b1a44fc794afce65feaffb31",
       "version_major": 2,
       "version_minor": 0
      },
      "text/plain": [
       "  0%|          | 0/126 [00:00<?, ?it/s]"
      ]
     },
     "metadata": {},
     "output_type": "display_data"
    },
    {
     "data": {
      "application/vnd.jupyter.widget-view+json": {
       "model_id": "7e0eb956e6ee4371a07c6abff0484904",
       "version_major": 2,
       "version_minor": 0
      },
      "text/plain": [
       "  0%|          | 0/126 [00:00<?, ?it/s]"
      ]
     },
     "metadata": {},
     "output_type": "display_data"
    },
    {
     "data": {
      "application/vnd.jupyter.widget-view+json": {
       "model_id": "17cfbff43f724cc4bbadabb927c08726",
       "version_major": 2,
       "version_minor": 0
      },
      "text/plain": [
       "  0%|          | 0/126 [00:00<?, ?it/s]"
      ]
     },
     "metadata": {},
     "output_type": "display_data"
    },
    {
     "data": {
      "application/vnd.jupyter.widget-view+json": {
       "model_id": "fee9c73c38a64ca8b3b6e9c8f54b25c3",
       "version_major": 2,
       "version_minor": 0
      },
      "text/plain": [
       "  0%|          | 0/126 [00:00<?, ?it/s]"
      ]
     },
     "metadata": {},
     "output_type": "display_data"
    },
    {
     "data": {
      "application/vnd.jupyter.widget-view+json": {
       "model_id": "8738417c00f94a6088a8baf11232e615",
       "version_major": 2,
       "version_minor": 0
      },
      "text/plain": [
       "  0%|          | 0/126 [00:00<?, ?it/s]"
      ]
     },
     "metadata": {},
     "output_type": "display_data"
    },
    {
     "data": {
      "application/vnd.jupyter.widget-view+json": {
       "model_id": "2dbd6e84bf46456a87f37d0d193a1db1",
       "version_major": 2,
       "version_minor": 0
      },
      "text/plain": [
       "  0%|          | 0/126 [00:00<?, ?it/s]"
      ]
     },
     "metadata": {},
     "output_type": "display_data"
    },
    {
     "data": {
      "application/vnd.jupyter.widget-view+json": {
       "model_id": "5618ec85899842c38dbaa0586bf0e732",
       "version_major": 2,
       "version_minor": 0
      },
      "text/plain": [
       "  0%|          | 0/126 [00:00<?, ?it/s]"
      ]
     },
     "metadata": {},
     "output_type": "display_data"
    },
    {
     "data": {
      "application/vnd.jupyter.widget-view+json": {
       "model_id": "599276e607a2418b9bf0627eb7009581",
       "version_major": 2,
       "version_minor": 0
      },
      "text/plain": [
       "  0%|          | 0/126 [00:00<?, ?it/s]"
      ]
     },
     "metadata": {},
     "output_type": "display_data"
    },
    {
     "data": {
      "application/vnd.jupyter.widget-view+json": {
       "model_id": "ac71bd1c98c54ed0b8bb3764f5031f1e",
       "version_major": 2,
       "version_minor": 0
      },
      "text/plain": [
       "  0%|          | 0/126 [00:00<?, ?it/s]"
      ]
     },
     "metadata": {},
     "output_type": "display_data"
    },
    {
     "data": {
      "application/vnd.jupyter.widget-view+json": {
       "model_id": "30fc0a64700742f98bc6671c4d9ec749",
       "version_major": 2,
       "version_minor": 0
      },
      "text/plain": [
       "  0%|          | 0/126 [00:00<?, ?it/s]"
      ]
     },
     "metadata": {},
     "output_type": "display_data"
    },
    {
     "data": {
      "application/vnd.jupyter.widget-view+json": {
       "model_id": "5b19fa77136347d1a88e358af9c13259",
       "version_major": 2,
       "version_minor": 0
      },
      "text/plain": [
       "  0%|          | 0/126 [00:00<?, ?it/s]"
      ]
     },
     "metadata": {},
     "output_type": "display_data"
    },
    {
     "data": {
      "application/vnd.jupyter.widget-view+json": {
       "model_id": "3285bb4d25344e8eba383dbecdfa43af",
       "version_major": 2,
       "version_minor": 0
      },
      "text/plain": [
       "  0%|          | 0/126 [00:00<?, ?it/s]"
      ]
     },
     "metadata": {},
     "output_type": "display_data"
    },
    {
     "data": {
      "application/vnd.jupyter.widget-view+json": {
       "model_id": "c9287a457f9b40d488ab3eef548f339a",
       "version_major": 2,
       "version_minor": 0
      },
      "text/plain": [
       "  0%|          | 0/126 [00:00<?, ?it/s]"
      ]
     },
     "metadata": {},
     "output_type": "display_data"
    },
    {
     "data": {
      "application/vnd.jupyter.widget-view+json": {
       "model_id": "463ffa3028c042cea4fdeec7d7ccb447",
       "version_major": 2,
       "version_minor": 0
      },
      "text/plain": [
       "  0%|          | 0/126 [00:00<?, ?it/s]"
      ]
     },
     "metadata": {},
     "output_type": "display_data"
    },
    {
     "data": {
      "application/vnd.jupyter.widget-view+json": {
       "model_id": "ef10e075be2741028273f5e9ce29e441",
       "version_major": 2,
       "version_minor": 0
      },
      "text/plain": [
       "  0%|          | 0/126 [00:00<?, ?it/s]"
      ]
     },
     "metadata": {},
     "output_type": "display_data"
    },
    {
     "data": {
      "application/vnd.jupyter.widget-view+json": {
       "model_id": "2be8998586114bae996911de4e88a7fc",
       "version_major": 2,
       "version_minor": 0
      },
      "text/plain": [
       "  0%|          | 0/126 [00:00<?, ?it/s]"
      ]
     },
     "metadata": {},
     "output_type": "display_data"
    },
    {
     "data": {
      "application/vnd.jupyter.widget-view+json": {
       "model_id": "085270485eaa433aa173e1d23ca54fca",
       "version_major": 2,
       "version_minor": 0
      },
      "text/plain": [
       "  0%|          | 0/126 [00:00<?, ?it/s]"
      ]
     },
     "metadata": {},
     "output_type": "display_data"
    },
    {
     "data": {
      "application/vnd.jupyter.widget-view+json": {
       "model_id": "2276a20232694f30bd1f1bb04a458939",
       "version_major": 2,
       "version_minor": 0
      },
      "text/plain": [
       "  0%|          | 0/126 [00:00<?, ?it/s]"
      ]
     },
     "metadata": {},
     "output_type": "display_data"
    }
   ],
   "source": [
    "predictions = inference_textqa(model, tokenizer, vae, test_dataloader)"
   ]
  },
  {
   "cell_type": "markdown",
   "id": "f9295e07-f5e6-4436-a20d-104ea33c81de",
   "metadata": {},
   "source": [
    "Запишем список истинных ответов для валидационной выборки и посмотрим на истинный и сгенерированный ответы."
   ]
  },
  {
   "cell_type": "code",
   "execution_count": 57,
   "id": "54a0d18c-2707-447b-9586-bf7937dd3af8",
   "metadata": {},
   "outputs": [],
   "source": [
    "gt = list(map(lambda x: x['text'][0], val_data['answers']))"
   ]
  },
  {
   "cell_type": "code",
   "execution_count": 58,
   "id": "93774f32-fb14-429f-805f-6bdd9349540e",
   "metadata": {},
   "outputs": [
    {
     "name": "stdout",
     "output_type": "stream",
     "text": [
      "Контекст: Персонажи манги Наруто получали как положительные, так и негативные отзывы в публикациях, посвящённых непосредственно манге, а также её аниме-экранизации и других медиа-изданиям. Так, сайт Active Anime хвалил серию за то, что персонажи не вырезаны из одного картона и дал высокую оценку очень трогательным эмоциональным испытаниям , которые они проходят в течение сюжета[35]. Anime Boredom согласился с такой оценкой, отмечая уровень хорошо проработанных и интересных персонажей , которые правдоподобно и удачно вписываются в комедийную либо драматичную сюжетную линию[36].\n",
      "****************************************************************************************************\n",
      "Вопрос: За что сайт Active Anime хвалил серию ?\n"
     ]
    }
   ],
   "source": [
    "i = random.choice(range(len(gt)))\n",
    "print('Контекст:', val_data['context'][i])\n",
    "print('*'*100)\n",
    "print('Вопрос:', val_data['question'][i])"
   ]
  },
  {
   "cell_type": "code",
   "execution_count": 59,
   "id": "1bbca4f2-2ff2-4dd4-a908-0fb4a6dfd633",
   "metadata": {},
   "outputs": [
    {
     "name": "stdout",
     "output_type": "stream",
     "text": [
      "Истинный ответ:  персонажи не вырезаны из одного картона \n",
      "Предсказанный ответ: за то, что персонажи не вырезаны из одного картона\n"
     ]
    }
   ],
   "source": [
    "print('Истинный ответ:', gt[i])\n",
    "print('Предсказанный ответ:', predictions[i])"
   ]
  },
  {
   "cell_type": "markdown",
   "id": "a829a791-d78d-4966-aec7-f3796f97eee3",
   "metadata": {},
   "source": [
    "Рассчитаем метрику f1_score на сгенерированных текстовых ответах и истинных ответах для val части датасета sberQuAD."
   ]
  },
  {
   "cell_type": "code",
   "execution_count": 60,
   "id": "44713732-0ba5-4267-8466-5435bede6f22",
   "metadata": {},
   "outputs": [],
   "source": [
    "from f1_score import compute_f1"
   ]
  },
  {
   "cell_type": "code",
   "execution_count": 61,
   "id": "29e261b3-9c83-46a0-86d7-6e139a957371",
   "metadata": {},
   "outputs": [
    {
     "data": {
      "text/plain": [
       "0.43181463990937896"
      ]
     },
     "execution_count": 61,
     "metadata": {},
     "output_type": "execute_result"
    }
   ],
   "source": [
    "compute_f1(gt, predictions)"
   ]
  },
  {
   "cell_type": "markdown",
   "id": "f867175a-fa89-4647-b67c-5cdf3efeaaf0",
   "metadata": {},
   "source": [
    "## Генерация ответов для текстов из другого домена"
   ]
  },
  {
   "cell_type": "code",
   "execution_count": 62,
   "id": "61bfefe0-6229-4c94-900e-06f97b9cf2b8",
   "metadata": {},
   "outputs": [],
   "source": [
    "def encode_text(text, tokenizer, text_seq_length, spc_id, add_special = True):\n",
    "        tokens = tokenizer.tokenizer.encode([text], output_type=yttm.OutputType.ID)[0]\n",
    "        bos = [tokenizer.bos_id]\n",
    "        if add_special:\n",
    "            bos.append(spc_id)\n",
    "        tokens = bos + tokens + [tokenizer.eos_id]\n",
    "        return tokenizer.prepare_tokens(tokens, text_seq_length)"
   ]
  },
  {
   "cell_type": "code",
   "execution_count": 63,
   "id": "ea9a0f55-c4f6-4898-921c-16c095e954e6",
   "metadata": {},
   "outputs": [],
   "source": [
    "def get_textqa_answer(model, tokenizer, vae, question):\n",
    "    \n",
    "    api = ruDolphTextQAApi(model, tokenizer, vae)\n",
    "    \n",
    "    vocab_size = model.get_param('vocab_size')\n",
    "    image_tokens_per_dim = model.get_param('image_tokens_per_dim')\n",
    "    l_text_seq_length = model.get_param('l_text_seq_length')\n",
    "    r_text_seq_length = model.get_param('r_text_seq_length')\n",
    "    image_seq_length = model.get_param('image_seq_length')\n",
    "    device = model.get_param('device')\n",
    "    \n",
    "    spc_id = -1\n",
    "    \n",
    "    vocab = tokenizer.tokenizer.vocab()\n",
    "    \n",
    "    ignore_ids = [\n",
    "    tokenizer.eos_id, tokenizer.bos_id, tokenizer.unk_id, tokenizer.pad_id,\n",
    "    spc_id, *list(SPC_TOKENS.values())\n",
    "    ]\n",
    "    \n",
    "    # allowed_token_ids - список токенов, которые может сгенерировать модель (в случае, если мы хотим ограничить выходной словарь)\n",
    "    allowed_token_ids = []\n",
    "    for i, token in enumerate(vocab):\n",
    "        allowed_token_ids.append(i)\n",
    "        \n",
    "    left_text_encoded = encode_text(question.lower().strip(), tokenizer, args.l_text_seq_length, spc_id).to(device)\n",
    "    left_text_encoded = torch.unsqueeze(left_text_encoded, 0)\n",
    "    left_special_token = '<LT_TQA>'\n",
    "    \n",
    "    left_text_encoded[torch.where(left_text_encoded == spc_id)] = SPC_TOKENS[left_special_token]\n",
    "    \n",
    "    image_input_ids_text = torch.zeros((1, image_seq_length), dtype=torch.int32).to(args.device)\n",
    "\n",
    "    \n",
    "    answer = api.generate_text_answers(image_input_ids_text, left_text_encoded, vocab_size, \n",
    "                                    top_k=32, top_p=0.8, temperature=1.0, template = '', \n",
    "                                    allowed_token_ids = allowed_token_ids, special_token='<RT_UNK>')\n",
    "            \n",
    "    print('Контекст + вопрос :', question)\n",
    "    print('*'*80)\n",
    "    print('Ответ :', answer[0])\n",
    "    "
   ]
  },
  {
   "cell_type": "code",
   "execution_count": 68,
   "id": "dc6ca213-92f7-4af5-90bc-e9daecaa1883",
   "metadata": {},
   "outputs": [],
   "source": [
    "text = 'Уже в детстве Уолт Дисней отличался актёрским талантом. \\\n",
    "Он очень любил фильмы с Чарли Чаплином. Несмотря на большую нагрузку и усталость \\\n",
    "Уолту нравилось ходить в школу. Там он развлекал друзей, пародируя героев Чарли Чаплина. \\\n",
    "Таланту Уолта как художника также было где разгуляться. Иногда учителя вызывали Уолта и \\\n",
    "предлагали ему проиллюстрировать тему урока на школьной доске.'"
   ]
  },
  {
   "cell_type": "code",
   "execution_count": 72,
   "id": "33870d79-7bcc-46c3-be0d-b576380524aa",
   "metadata": {},
   "outputs": [],
   "source": [
    "question = 'Кого Уолт Дисней пародировал в школе?'"
   ]
  },
  {
   "cell_type": "code",
   "execution_count": 73,
   "id": "6034e86e-76e0-401c-b72b-2ad41c275fcc",
   "metadata": {},
   "outputs": [],
   "source": [
    "left_template = text + ' ' + question"
   ]
  },
  {
   "cell_type": "code",
   "execution_count": 74,
   "id": "87b3de33-8842-4ac0-8e3a-f4596b8c2c8f",
   "metadata": {},
   "outputs": [
    {
     "data": {
      "application/vnd.jupyter.widget-view+json": {
       "model_id": "cf16c239176c43b7bf15f6e9030b7915",
       "version_major": 2,
       "version_minor": 0
      },
      "text/plain": [
       "  0%|          | 0/126 [00:00<?, ?it/s]"
      ]
     },
     "metadata": {},
     "output_type": "display_data"
    },
    {
     "name": "stdout",
     "output_type": "stream",
     "text": [
      "Контекст + вопрос : Уже в детстве Уолт Дисней отличался актёрским талантом. Он очень любил фильмы с Чарли Чаплином. Несмотря на большую нагрузку и усталость Уолту нравилось ходить в школу. Там он развлекал друзей, пародируя героев Чарли Чаплина. Таланту Уолта как художника также было где разгуляться. Иногда учителя вызывали Уолта и предлагали ему проиллюстрировать тему урока на школьной доске. Кого Уолт Дисней пародировал в школе?\n",
      "********************************************************************************\n",
      "Ответ : героев чарли чаплина\n"
     ]
    }
   ],
   "source": [
    "get_textqa_answer(model, tokenizer, vae, left_template)"
   ]
  },
  {
   "cell_type": "code",
   "execution_count": null,
   "id": "823aa2ab-2b72-433d-b115-872937aa172d",
   "metadata": {},
   "outputs": [],
   "source": []
  }
 ],
 "metadata": {
  "kernelspec": {
   "display_name": "Python 3 (ipykernel)",
   "language": "python",
   "name": "python3"
  },
  "language_info": {
   "codemirror_mode": {
    "name": "ipython",
    "version": 3
   },
   "file_extension": ".py",
   "mimetype": "text/x-python",
   "name": "python",
   "nbconvert_exporter": "python",
   "pygments_lexer": "ipython3",
   "version": "3.7.12"
  }
 },
 "nbformat": 4,
 "nbformat_minor": 5
}
